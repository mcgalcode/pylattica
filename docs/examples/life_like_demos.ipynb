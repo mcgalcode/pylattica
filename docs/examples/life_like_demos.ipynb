{
 "cells": [
  {
   "cell_type": "code",
   "execution_count": 36,
   "id": "e7b9583e-67fe-41db-aec3-8c079186f317",
   "metadata": {},
   "outputs": [
    {
     "name": "stdout",
     "output_type": "stream",
     "text": [
      "The autoreload extension is already loaded. To reload it, use:\n",
      "  %reload_ext autoreload\n"
     ]
    }
   ],
   "source": [
    "%load_ext autoreload\n",
    "%autoreload 2"
   ]
  },
  {
   "cell_type": "code",
   "execution_count": 54,
   "id": "0e7756c5-553a-42c8-a3ad-8684252d7f20",
   "metadata": {},
   "outputs": [],
   "source": [
    "from pylattica.core import BasicController, Runner, SimulationState\n",
    "from pylattica.square_grid import MooreNbHoodBuilder, VonNeumannNbHood2DBuilder\n",
    "from pylattica.discrete.state_constants import DISCRETE_OCCUPANCY\n",
    "from pylattica.models.game_of_life import Maze, Anneal, Diamoeba, Seeds, Life, GameOfLifeController"
   ]
  },
  {
   "cell_type": "markdown",
   "id": "f7123e4d-4e54-413b-9721-831c6a7c1bf7",
   "metadata": {},
   "source": [
    "# Life-like Cellular Automata\n",
    "\n",
    "There are many variations on Conway's Game of Life which [Life-like Automata](https://conwaylife.com/wiki/Life-like_cellular_automaton). There are implementations of these in pylattica for your enjoyment."
   ]
  },
  {
   "cell_type": "code",
   "execution_count": 38,
   "id": "1f6fdfac-eead-43d4-889a-883cd1a2a5c2",
   "metadata": {},
   "outputs": [],
   "source": [
    "from pylattica.discrete import PhaseSet\n",
    "from pylattica.square_grid.grid_setup import DiscreteGridSetup\n",
    "from pylattica.visualization import DiscreteSquareGridArtist2D, DiscreteSquareGridResultArtist\n",
    "\n",
    "phases = PhaseSet([\"dead\", \"alive\"])\n",
    "setup = DiscreteGridSetup(phases)\n",
    "artist = DiscreteSquareGridArtist2D()"
   ]
  },
  {
   "cell_type": "markdown",
   "id": "57c0353d-2e44-4b9a-922f-8963f9072f5d",
   "metadata": {},
   "source": [
    "#### Life"
   ]
  },
  {
   "cell_type": "code",
   "execution_count": 44,
   "id": "e49bdd34-e233-4671-adec-eb487a6de26b",
   "metadata": {},
   "outputs": [
    {
     "name": "stderr",
     "output_type": "stream",
     "text": [
      "100%|██████████████████████████████████████| 10000/10000 [00:00<00:00, 70023.64it/s]\n",
      "100%|███████████████████████████████████████████████| 60/60 [00:03<00:00, 19.62it/s]\n"
     ]
    },
    {
     "data": {
      "image/png": "[encoded data removed]",
      "text/plain": [
       "<PIL.Image.Image image mode=RGB size=535x500>"
      ]
     },
     "metadata": {},
     "output_type": "display_data"
    }
   ],
   "source": [
    "starting_state = setup.setup_noise(100, [\"dead\", \"alive\"])\n",
    "controller = Life()\n",
    "runner = Runner(parallel=True)\n",
    "result = runner.run(starting_state.state, controller, 60, structure=starting_state.structure, verbose=False)\n",
    "artist.jupyter_show(result.last_step, cell_size=5)"
   ]
  },
  {
   "cell_type": "code",
   "execution_count": 48,
   "id": "74722d02-def6-4184-b6d0-579e0e1805f6",
   "metadata": {},
   "outputs": [],
   "source": [
    "DiscreteSquareGridResultArtist(artist, result).to_gif(\"out.gif\", wait=0.2, cell_size=6)"
   ]
  },
  {
   "cell_type": "markdown",
   "id": "a076dd88-7a89-4080-9fd9-812eaa1ce076",
   "metadata": {},
   "source": [
    "#### Seeds"
   ]
  },
  {
   "cell_type": "code",
   "execution_count": 50,
   "id": "4d8e419d-3891-4177-9c72-a4b57b3561bf",
   "metadata": {},
   "outputs": [
    {
     "name": "stderr",
     "output_type": "stream",
     "text": [
      "100%|██████████████████████████████████████| 10000/10000 [00:00<00:00, 70623.42it/s]\n",
      "100%|███████████████████████████████████████████████| 60/60 [00:03<00:00, 19.97it/s]\n"
     ]
    },
    {
     "data": {
      "image/png": "[encoded data removed]",
      "text/plain": [
       "<PIL.Image.Image image mode=RGB size=535x500>"
      ]
     },
     "metadata": {},
     "output_type": "display_data"
    }
   ],
   "source": [
    "starting_state = setup.setup_noise(100, [\"dead\", \"alive\"])\n",
    "controller = Seeds()\n",
    "runner = Runner(parallel=True)\n",
    "result = runner.run(starting_state.state, controller, 60, structure=starting_state.structure, verbose=False)\n",
    "artist.jupyter_show(result.last_step, cell_size=5)\n",
    "DiscreteSquareGridResultArtist(artist, result).to_gif(\"seeds.gif\", wait=0.2, cell_size=6)"
   ]
  },
  {
   "cell_type": "markdown",
   "id": "02a3839f-3610-483e-bb86-98b56f70bed2",
   "metadata": {},
   "source": [
    "#### Diamoeba"
   ]
  },
  {
   "cell_type": "code",
   "execution_count": 51,
   "id": "e3ab8cc6-0b66-4705-b5a2-e8ab972cdc07",
   "metadata": {},
   "outputs": [
    {
     "name": "stderr",
     "output_type": "stream",
     "text": [
      "100%|██████████████████████████████████████| 10000/10000 [00:00<00:00, 71005.05it/s]\n",
      "100%|███████████████████████████████████████████████| 60/60 [00:03<00:00, 19.87it/s]\n"
     ]
    },
    {
     "data": {
      "image/png": "[encoded data removed]",
      "text/plain": [
       "<PIL.Image.Image image mode=RGB size=535x500>"
      ]
     },
     "metadata": {},
     "output_type": "display_data"
    }
   ],
   "source": [
    "starting_state = setup.setup_noise(100, [\"dead\", \"alive\"])\n",
    "controller = Diamoeba()\n",
    "runner = Runner(parallel=True)\n",
    "result = runner.run(starting_state.state, controller, 60, structure=starting_state.structure, verbose=False)\n",
    "artist.jupyter_show(result.last_step, cell_size=5)\n",
    "DiscreteSquareGridResultArtist(artist, result).to_gif(\"Diamoeba.gif\", wait=0.2, cell_size=6)"
   ]
  },
  {
   "cell_type": "markdown",
   "id": "5b0b58cd-1055-4c38-b25d-215c8db7d970",
   "metadata": {
    "tags": []
   },
   "source": [
    "### Anneal"
   ]
  },
  {
   "cell_type": "code",
   "execution_count": 52,
   "id": "b3f493fd-c72d-46f8-870f-5793816560d7",
   "metadata": {},
   "outputs": [
    {
     "name": "stderr",
     "output_type": "stream",
     "text": [
      "100%|██████████████████████████████████████| 10000/10000 [00:00<00:00, 70243.52it/s]\n",
      "100%|█████████████████████████████████████████████| 150/150 [00:07<00:00, 19.74it/s]\n"
     ]
    },
    {
     "data": {
      "image/png": "[encoded data removed]",
      "text/plain": [
       "<PIL.Image.Image image mode=RGB size=535x500>"
      ]
     },
     "metadata": {},
     "output_type": "display_data"
    }
   ],
   "source": [
    "starting_state = setup.setup_noise(100, [\"dead\", \"alive\"])\n",
    "controller = Anneal()\n",
    "runner = Runner(parallel=True)\n",
    "result = runner.run(starting_state.state, controller, 150, structure=starting_state.structure, verbose=False)\n",
    "artist.jupyter_show(result.last_step, cell_size=5)\n",
    "DiscreteSquareGridResultArtist(artist, result).to_gif(\"Anneal.gif\", wait=0.2, cell_size=6)"
   ]
  },
  {
   "cell_type": "markdown",
   "id": "9e988592-8cc3-4363-ba1a-8fefa28cd599",
   "metadata": {},
   "source": [
    "### Maze"
   ]
  },
  {
   "cell_type": "code",
   "execution_count": 53,
   "id": "83293606-795f-48bd-b4ea-98d72f4e2ede",
   "metadata": {},
   "outputs": [
    {
     "name": "stderr",
     "output_type": "stream",
     "text": [
      "100%|██████████████████████████████████████| 10000/10000 [00:00<00:00, 70848.53it/s]\n",
      "100%|█████████████████████████████████████████████| 150/150 [00:07<00:00, 19.05it/s]\n"
     ]
    },
    {
     "data": {
      "image/png": "[encoded data removed]",
      "text/plain": [
       "<PIL.Image.Image image mode=RGB size=535x500>"
      ]
     },
     "metadata": {},
     "output_type": "display_data"
    }
   ],
   "source": [
    "starting_state = setup.setup_particle(100, 30, \"dead\", \"alive\")\n",
    "controller = Maze()\n",
    "runner = Runner(parallel=True)\n",
    "result = runner.run(starting_state.state, controller, 150, structure=starting_state.structure, verbose=False)\n",
    "artist.jupyter_show(result.last_step, cell_size=5)\n",
    "DiscreteSquareGridResultArtist(artist, result).to_gif(\"Maze.gif\", wait=0.2, cell_size=6)"
   ]
  },
  {
   "cell_type": "markdown",
   "id": "b2395797-b207-48cb-bbce-d9b497084448",
   "metadata": {},
   "source": [
    "### Other Lifes\n",
    "\n",
    "You can specify any other life variant using the `Bxxx/Sxxx` syntax."
   ]
  },
  {
   "cell_type": "code",
   "execution_count": 59,
   "id": "071bc541-d568-45fc-8d7c-8c5b1fcd3716",
   "metadata": {},
   "outputs": [
    {
     "name": "stderr",
     "output_type": "stream",
     "text": [
      "100%|██████████████████████████████████████| 10000/10000 [00:00<00:00, 69843.72it/s]\n",
      "100%|█████████████████████████████████████████████| 150/150 [00:07<00:00, 20.10it/s]\n"
     ]
    },
    {
     "data": {
      "image/png": "[encoded data removed]",
      "text/plain": [
       "<PIL.Image.Image image mode=RGB size=535x500>"
      ]
     },
     "metadata": {},
     "output_type": "display_data"
    }
   ],
   "source": [
    "starting_state = setup.setup_particle(100, 30, \"dead\", \"alive\")\n",
    "controller = GameOfLifeController(variant=\"B3678/S34678\")\n",
    "runner = Runner(parallel=True)\n",
    "result = runner.run(starting_state.state, controller, 150, structure=starting_state.structure, verbose=False)\n",
    "artist.jupyter_show(result.last_step, cell_size=5)\n",
    "DiscreteSquareGridResultArtist(artist, result).to_gif(\"daynnite.gif\", wait=0.2, cell_size=6)"
   ]
  },
  {
   "cell_type": "code",
   "execution_count": 57,
   "id": "ded339ab-4e06-4b83-84e2-aa99d9e00d16",
   "metadata": {},
   "outputs": [
    {
     "name": "stderr",
     "output_type": "stream",
     "text": [
      "100%|██████████████████████████████████████| 10000/10000 [00:00<00:00, 71312.42it/s]\n",
      "100%|█████████████████████████████████████████████| 150/150 [00:07<00:00, 20.32it/s]\n"
     ]
    },
    {
     "data": {
      "image/png": "[encoded data removed]",
      "text/plain": [
       "<PIL.Image.Image image mode=RGB size=535x500>"
      ]
     },
     "metadata": {},
     "output_type": "display_data"
    }
   ],
   "source": [
    "starting_state = setup.setup_particle(100, 30, \"dead\", \"alive\")\n",
    "controller = GameOfLifeController(variant=\"B3/S238\")\n",
    "runner = Runner(parallel=True)\n",
    "result = runner.run(starting_state.state, controller, 150, structure=starting_state.structure, verbose=False)\n",
    "artist.jupyter_show(result.last_step, cell_size=5)\n",
    "DiscreteSquareGridResultArtist(artist, result).to_gif(\"8life.gif\", wait=0.2, cell_size=6)"
   ]
  },
  {
   "cell_type": "code",
   "execution_count": null,
   "id": "1b16c044-b026-4134-8265-9e90a5f6fe00",
   "metadata": {},
   "outputs": [],
   "source": []
  }
 ],
 "metadata": {
  "kernelspec": {
   "display_name": "Python 3 (ipykernel)",
   "language": "python",
   "name": "python3"
  },
  "language_info": {
   "codemirror_mode": {
    "name": "ipython",
    "version": 3
   },
   "file_extension": ".py",
   "mimetype": "text/x-python",
   "name": "python",
   "nbconvert_exporter": "python",
   "pygments_lexer": "ipython3",
   "version": "3.10.6"
  }
 },
 "nbformat": 4,
 "nbformat_minor": 5
}
