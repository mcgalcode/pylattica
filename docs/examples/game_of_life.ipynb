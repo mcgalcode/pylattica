{
 "cells": [
  {
   "cell_type": "code",
   "execution_count": 1,
   "id": "1552cb7a-cedd-49f5-9108-fb0ff55c698c",
   "metadata": {},
   "outputs": [],
   "source": [
    "%load_ext autoreload\n",
    "%autoreload 2"
   ]
  },
  {
   "cell_type": "code",
   "execution_count": 2,
   "id": "870eed54-fcd0-4ecb-a2ba-27ce9fc549dd",
   "metadata": {},
   "outputs": [],
   "source": [
    "from pylattica.core import SynchronousRunner, Lattice, PeriodicStructure, SimulationState"
   ]
  },
  {
   "cell_type": "markdown",
   "id": "bbf19c61-6567-423b-b0d8-709a2fb6f83a",
   "metadata": {},
   "source": [
    "# Conway's Game of Life in pylattica\n",
    "\n",
    "In this guide, we show how one can use the pieces provided by `pylattica` to implement Conway's Game of Life. Conway's Game of Life is a famous cellular automaton defined by mathematician John Conway. It demonstrates the way that very complex phenomena can emerge from simple local interactions, and has been studied extensively.\n",
    "\n",
    "In Conway's Game of Life, a 2D square grid of cells are labelled as \"alive\" or \"dead\". Then, as the simulation progresses, the cell states flip between \"dead\" and \"alive\" depending on how many living cells surround them.\n",
    "\n",
    "Before we begin though, take a quick look at the [Wikipedia Article](https://en.wikipedia.org/wiki/Conway%27s_Game_of_Life) for the Game of Life to understand what the model is.\n",
    "\n",
    "In particular, note that the rules describing the game are simple:\n",
    "\n",
    "1. Any live cell with fewer than two live neighbours dies, as if by underpopulation.\n",
    "2. Any live cell with two or three live neighbours lives on to the next generation.\n",
    "3. Any live cell with more than three live neighbours dies, as if by overpopulation.\n",
    "4. Any dead cell with exactly three live neighbours becomes a live cell, as if by reproduction.\n",
    "\n",
    "In this notebook, we will implement this model using `pylattica` and show some of the libarary's visualization capabilities."
   ]
  },
  {
   "cell_type": "markdown",
   "id": "4d7c53cb-acfa-4e8c-9567-f9d0b33b43be",
   "metadata": {},
   "source": [
    "## Implementing the Update Rule"
   ]
  },
  {
   "cell_type": "markdown",
   "id": "ef365913-03b0-47e4-b955-f2de7994da75",
   "metadata": {},
   "source": [
    "Let's start this implementation by writing out the update rule above in code. We'll do this by implementing a function that takes the old state of a cell and the states of the neighboring cells, and returns the new state. We're not using anything from `pylattica` at all right now, just translating the rules of the Game into codee."
   ]
  },
  {
   "cell_type": "code",
   "execution_count": 3,
   "id": "dbc8cdae-ca5c-488c-acdd-d7783c00617d",
   "metadata": {},
   "outputs": [],
   "source": [
    "def update_state(old_state, neighboring_states):\n",
    "    alive_neighbor_count = 0\n",
    "    dead_neighbor_count = 0\n",
    "    \n",
    "    for state in neighboring_states:\n",
    "        if state == \"alive\":\n",
    "            alive_neighbor_count += 1\n",
    "        else:\n",
    "            # since all cells are either alive or dead, nothing else\n",
    "            dead_neighbor_count += 1\n",
    "    \n",
    "    # Now, we can implement the rules in python logic:\n",
    "    if old_state == \"alive\":\n",
    "        if alive_neighbor_count < 2:\n",
    "            return \"dead\"\n",
    "        elif alive_neighbor_count == 2 or alive_neighbor_count == 3:\n",
    "            return \"alive\"\n",
    "        elif alive_neighbor_count > 3:\n",
    "            return \"dead\"\n",
    "    elif old_state == \"dead\":\n",
    "        if alive_neighbor_count == 3:\n",
    "            return \"alive\"\n",
    "    \n",
    "    return old_state\n",
    "    "
   ]
  },
  {
   "cell_type": "markdown",
   "id": "be29b936-7229-4b87-8d14-6ed79dfe1db4",
   "metadata": {},
   "source": [
    "This is a bit verbose, but we've written it that way just to emphasize the direct mapping of logical statements here to the rules from the Wikipedia article. Let's try out some hypothetical situations:"
   ]
  },
  {
   "cell_type": "code",
   "execution_count": 4,
   "id": "b7a88a2e-7f8c-4d6f-b5b0-b18c47f1213f",
   "metadata": {},
   "outputs": [
    {
     "name": "stdout",
     "output_type": "stream",
     "text": [
      "alive cell, 2 dead, 2 alive neighbors:\n",
      "result: alive\n",
      "\n",
      "alive cell, 1 dead, 4 alive neighbors:\n",
      "result: dead\n",
      "\n",
      "dead cell, 1 dead, 3 alive neighbors:\n",
      "result: alive\n"
     ]
    }
   ],
   "source": [
    "print(\"alive cell, 2 dead, 2 alive neighbors:\")\n",
    "print(\"result:\", update_state(\"alive\", [\"alive\", \"dead\", \"alive\", \"dead\"]))\n",
    "print(\"\")\n",
    "print(\"alive cell, 1 dead, 4 alive neighbors:\")\n",
    "print(\"result:\", update_state(\"alive\", [\"alive\", \"alive\", \"alive\", \"alive\"]))\n",
    "print(\"\")\n",
    "print(\"dead cell, 1 dead, 3 alive neighbors:\")\n",
    "print(\"result:\", update_state(\"dead\", [\"alive\", \"alive\", \"alive\", \"dead\"]))"
   ]
  },
  {
   "cell_type": "markdown",
   "id": "f2861bdd-bf7c-4b3e-b059-9857ab5a887a",
   "metadata": {},
   "source": [
    "The rule looks like it's working. Let's see how we can use pylattica to make this rule into a whole simulation."
   ]
  },
  {
   "cell_type": "markdown",
   "id": "11975360-4fbb-4bb0-ae31-23b3225b541f",
   "metadata": {},
   "source": [
    "## Setting Up The Simulation Structure"
   ]
  },
  {
   "cell_type": "markdown",
   "id": "5bc8387f-3cd0-4d43-9e58-93decb9e211c",
   "metadata": {},
   "source": [
    "We know that Conway's Game of Life has cells that are either dead or alive. These cells are arranged on a _2D square grid_. We refer to this grid as the _lattice_ on which the simulation evolves. One of the core functions of `pylattica` is to make it easy to define such lattices.\n",
    "\n",
    "To construct our 2D square grid, we will use the `Lattice` class.\n",
    "\n",
    "> **NOTE**: For detailed illustrations of the behavior of the `Lattice` class, please see the [Lattice guide](/guides/constructing_lattices.ipynb)."
   ]
  },
  {
   "cell_type": "code",
   "execution_count": 5,
   "id": "ecdb28f2-d08d-4765-9cd4-f4bf73b1ead0",
   "metadata": {},
   "outputs": [],
   "source": [
    "lattice = Lattice([\n",
    "    [1, 0],\n",
    "    [0, 1]\n",
    "])"
   ]
  },
  {
   "cell_type": "markdown",
   "id": "952d0853-c7bf-4410-8053-c7118b69ba7b",
   "metadata": {},
   "source": [
    "Now that we've defined the [unit cell](https://en.wikipedia.org/wiki/Unit_cell) of our lattice, we can build the structure of our simulation. This `Lattice` object defines the shape of a single square grid tile. We build a larger grid of tiles using the `PeriodicStructure` object.\n",
    "\n",
    "We'll place a single simulation site in the center of each of these tiles. We specify this arrangement using a \"motif\", as shown below.\n",
    "\n",
    "> **NOTE**: For more detailed instructions for making `PeriodicStructure`s, please see the [PeriodicStructure guide](../guides/periodic_structure.ipynb)\n",
    "\n",
    "In this case, we are specifying a single site at each lattice point."
   ]
  },
  {
   "cell_type": "code",
   "execution_count": 50,
   "id": "a068bf02-2c6b-48ed-a626-6c6420399998",
   "metadata": {},
   "outputs": [],
   "source": [
    "motif = [\n",
    "    [0, 0]\n",
    "]\n",
    "\n",
    "structure = PeriodicStructure.build_from(lattice, (20,20), motif)"
   ]
  },
  {
   "cell_type": "markdown",
   "id": "02dce952-0e6c-41bf-a8a1-86953e2a0b6c",
   "metadata": {},
   "source": [
    "The lines of code above create a 10 x 10 square grid with periodic boundary conditions (see the [`PeriodicStructure` guide](../guides/periodic_structures.ipynb) for details on periodicity). This structure will be used to define the neighbors of each cell.\n",
    "\n",
    "Before we defined the neighborhood, let's set up a starting state for our simulation.\n",
    "\n",
    "### Simulation State\n",
    "\n",
    "We can construct an empty simulation state using the structure we generated:\n",
    "\n",
    "> **NOTE**: For more details about the `SimulationState` object, see the [SimulationState guide](../guides/simulation_state.ipynb)"
   ]
  },
  {
   "cell_type": "code",
   "execution_count": 51,
   "id": "597bb043-16b4-460b-a373-cda1bf5d441e",
   "metadata": {},
   "outputs": [],
   "source": [
    "initial_state = SimulationState.from_struct(structure)"
   ]
  },
  {
   "cell_type": "markdown",
   "id": "55002d09-fa5d-498b-8a90-f4db06b306d2",
   "metadata": {},
   "source": [
    "This state object has entries for each of the sites in the structure. We can see this by grabbing an arbitrary site from the simulation structure."
   ]
  },
  {
   "cell_type": "code",
   "execution_count": 52,
   "id": "315e3709-f326-46ed-b5f8-0813bbe71362",
   "metadata": {},
   "outputs": [
    {
     "name": "stdout",
     "output_type": "stream",
     "text": [
      "State for site 0 : {'_site_id': 0}\n"
     ]
    }
   ],
   "source": [
    "arb_site = structure.id_at((0, 0))\n",
    "\n",
    "print(\"State for site\", arb_site, \":\", initial_state.get_site_state(arb_site))"
   ]
  },
  {
   "cell_type": "markdown",
   "id": "cd8d7a5a-d101-435d-8173-34e648f58aab",
   "metadata": {},
   "source": [
    "So far, this state is empty. There is no information contained in that dictionary that is specific to our simulation.\n",
    "\n",
    "In our simulation, each cell site is either \"dead\" or \"alive\". Since `SimulationState`s can contain any key value mapping, let's invent a convention for representing whether each site is alive or dead.\n",
    "\n",
    "The key for our state will be \"state\" and the value will be either \"alive\" or \"dead\". We can set up an initial simulation state by iterating over all the site IDs in the structure, and assigning a random dead or alive state to each of them."
   ]
  },
  {
   "cell_type": "code",
   "execution_count": 53,
   "id": "75da86eb-6cee-4d30-a3fd-320624c70d22",
   "metadata": {},
   "outputs": [
    {
     "name": "stdout",
     "output_type": "stream",
     "text": [
      "State for site 0 : {'_site_id': 0, 'STATE': 'DEAD'}\n"
     ]
    }
   ],
   "source": [
    "import random\n",
    "\n",
    "dead = \"DEAD\"\n",
    "alive = \"ALIVE\"\n",
    "state = \"STATE\"\n",
    "\n",
    "state_choices = [dead, alive]\n",
    "\n",
    "for site_id in structure.site_ids:\n",
    "    initial_state.set_site_state(site_id, {\n",
    "        state: random.choice(state_choices)\n",
    "    })\n",
    "    \n",
    "print(\"State for site\", arb_site, \":\", initial_state.get_site_state(arb_site))"
   ]
  },
  {
   "cell_type": "markdown",
   "id": "72708f67-5543-46af-943b-84a4e2228b34",
   "metadata": {},
   "source": [
    "That's it! Now we can do a quick visualization to see what the simulation state looks like. `pylattica` only supports visualization of square grid structures. We can use the `SquareGridArtist2D` and `CellArtist` classes for this.\n",
    "\n",
    "The `CellArtist` defines the color that should be shown for each cell, and the legend label for that cell, as a function of it's state. We define ours like this: "
   ]
  },
  {
   "cell_type": "code",
   "execution_count": 54,
   "id": "d8ddce69-23aa-4b53-86c5-acb594b654ce",
   "metadata": {},
   "outputs": [],
   "source": [
    "from pylattica.visualization import CellArtist\n",
    "\n",
    "class GoLCellArtist(CellArtist):\n",
    "    \n",
    "    def get_color_from_cell_state(self, cell_state):\n",
    "        if cell_state[state] == dead:\n",
    "            return (0,100,150)\n",
    "        else:\n",
    "            return (255, 255, 150)\n",
    "    \n",
    "    def get_cell_legend_label(self, cell_state):\n",
    "        if cell_state[state] == dead:\n",
    "            return \"Dead\"\n",
    "        else:\n",
    "            return \"Alive\""
   ]
  },
  {
   "cell_type": "code",
   "execution_count": 69,
   "id": "2687d266-22cb-4fe0-ad9e-aab32651b530",
   "metadata": {},
   "outputs": [
    {
     "data": {
      "image/png": "[encoded data removed]",
      "text/plain": [
       "<PIL.Image.Image image mode=RGB size=525x400>"
      ]
     },
     "metadata": {},
     "output_type": "display_data"
    }
   ],
   "source": [
    "from pylattica.visualization import SquareGridArtist2D\n",
    "\n",
    "grid_artist = SquareGridArtist2D(structure, cell_artist=GoLCellArtist())\n",
    "\n",
    "grid_artist.jupyter_show(initial_state, cell_size=20)"
   ]
  },
  {
   "cell_type": "markdown",
   "id": "8a7f8feb-ff70-42bd-a1cd-7dadc4468f1a",
   "metadata": {
    "tags": []
   },
   "source": [
    "#### Site Neighborhoods\n",
    "\n",
    "The final ingredient to the pylattica model is the concept of a neighborhood. A neighborhood is simply the set of other sites that are considered neighbors. There are many different neighborhood specifications that are possible including classic neighborhoods for 2D square grids like [Moore Neighborhoods](https://en.wikipedia.org/wiki/Moore_neighborhood) and [Von Neumann Neighborhoods](https://en.wikipedia.org/wiki/Von_Neumann_neighborhood).\n",
    "\n",
    "You can specify neighborhoods in many different ways such as:\n",
    "\n",
    "- All cells within a certain distance (actually Moore and Von Neumann neighborhoods both fall into this category, but with different distance cutoffs, or different distance metrics)\n",
    "- All cells given by moving in a certain direction\n",
    "- A random subset of surrounding cells\n",
    "\n",
    "As specified in the Game of Life Wikipedia article, we need a Moore neighborhood (includes the cells in each of the cardinal directions and the diagonal directions). Though `pylattica` comes with a `MooreNeighborhood` built in under the square grid module, we will build ours from scratch.\n",
    "\n",
    "> **NOTE**: To learn more about `pylattica` `Neighborhood`s, take a look at the [Neighborhood guide](../guides/neighborhoods.ipynb)"
   ]
  },
  {
   "cell_type": "code",
   "execution_count": 56,
   "id": "054dee1a-1361-4387-886d-2e1d8826d0f0",
   "metadata": {},
   "outputs": [],
   "source": [
    "from pylattica.core.neighborhood_builders import DistanceNeighborhoodBuilder"
   ]
  },
  {
   "cell_type": "markdown",
   "id": "4b72eca3-9259-4119-9e1a-b10776d48bc1",
   "metadata": {},
   "source": [
    "To build a Moore Neighborhood, we will first observe that in the Moore Neighborhood, each neighbor is within 1.5 cell widths from the central cell. Using this observation, we know we can use a `DistanceNeighborhoodBuilder` for our use case. This builder makes assigns every cell neighbors which are within some specified cutoff radius.\n",
    "\n",
    "Here's how it works."
   ]
  },
  {
   "cell_type": "code",
   "execution_count": 57,
   "id": "05e0b029-9323-40ed-be08-1d4d1aaf73cb",
   "metadata": {},
   "outputs": [
    {
     "name": "stderr",
     "output_type": "stream",
     "text": [
      "100%|██████████████████████████████████████| 400/400 [00:01<00:00, 327.85it/s]\n"
     ]
    }
   ],
   "source": [
    "builder = DistanceNeighborhoodBuilder(cutoff=1.5)  \n",
    "nb_hood = builder.get(structure)"
   ]
  },
  {
   "cell_type": "markdown",
   "id": "9dcc8b59-3750-4be4-aa91-7c9470a46d7d",
   "metadata": {},
   "source": [
    "We can use the neighborhood to get the neighbors of any site, let's try the one at (5, 5)."
   ]
  },
  {
   "cell_type": "code",
   "execution_count": 58,
   "id": "886e35ad-f7e3-4f4d-9191-7c0cdc4988ed",
   "metadata": {},
   "outputs": [],
   "source": [
    "site = structure.site_at((5,5))\n",
    "nbs = nb_hood.neighbors_of(site['_site_id'])"
   ]
  },
  {
   "cell_type": "markdown",
   "id": "df290dbe-0491-47ac-81cf-b90a30ebfef6",
   "metadata": {},
   "source": [
    "What do we expect the locations of these neighboring sites to be?"
   ]
  },
  {
   "cell_type": "code",
   "execution_count": 59,
   "id": "8f36819b-d6d8-469a-b968-8f6746d0d906",
   "metadata": {},
   "outputs": [
    {
     "name": "stdout",
     "output_type": "stream",
     "text": [
      "Neighbor with ID 86 is at [4. 6.]\n",
      "Neighbor with ID 106 is at [5. 6.]\n",
      "Neighbor with ID 124 is at [6. 4.]\n",
      "Neighbor with ID 84 is at [4. 4.]\n",
      "Neighbor with ID 125 is at [6. 5.]\n",
      "Neighbor with ID 126 is at [6. 6.]\n",
      "Neighbor with ID 104 is at [5. 4.]\n",
      "Neighbor with ID 85 is at [4. 5.]\n"
     ]
    }
   ],
   "source": [
    "for nb_id in nbs:\n",
    "    site = structure.get_site(nb_id)\n",
    "    print(f'Neighbor with ID {nb_id} is at {site[\"_location\"]}')"
   ]
  },
  {
   "cell_type": "markdown",
   "id": "a6896bd5-c9c8-4387-8458-caf6267a69e7",
   "metadata": {},
   "source": [
    "As expected, these eight coordinate pairs correspond to the sites above, below, right and left, and diagonal of the site at (5, 5)."
   ]
  },
  {
   "cell_type": "markdown",
   "id": "3029a279-ac88-44b3-a6ea-7fd62300b88a",
   "metadata": {},
   "source": [
    "## Implementing the Simulation Controller\n",
    "\n",
    "We've defined the possible states in our system, and initialized a starting point. The next step is move our update rule from before into a format the pylattica can understand. For this, we have to implement a new `Controller` class."
   ]
  },
  {
   "cell_type": "code",
   "execution_count": 60,
   "id": "affb772a-12c0-4365-afaa-2be1fe8e4160",
   "metadata": {},
   "outputs": [],
   "source": [
    "from pylattica.core import BasicController, SimulationState\n",
    "from pylattica.discrete.state_constants import DISCRETE_OCCUPANCY\n",
    "from pylattica.core.simulation_state import SITES"
   ]
  },
  {
   "cell_type": "markdown",
   "id": "1b4e9ece-e0f3-4674-8ea2-a51a2309aae2",
   "metadata": {},
   "source": [
    "To accomplish this, we need to implement two methods in our controller class. The first, `pre_run` provides an opportunity to do any setup you'd like to before the simulation runs. It accepts as parameters the initial state of the simulation, and the structure underlying the state.\n",
    "\n",
    "All we'll do is setup a neighborhood based on the structure that we can use later.\n",
    "\n",
    "Second, we need to implement the `get_state_update` method. This is the fundamental piece of the controller. This method takes a site for which a new state should be calculated and the entire current simulation state. We can do any calculation we want to figure out the new state, but, armed with our neighborhood, and the update rule we implemented earlier, we have enough to create Conway's Game of Life."
   ]
  },
  {
   "cell_type": "code",
   "execution_count": 82,
   "id": "40bbad4c-8589-40d9-a1ff-26a3e153e787",
   "metadata": {},
   "outputs": [],
   "source": [
    "def update_state(old_state, neighboring_states):\n",
    "    alive_neighbor_count = 0\n",
    "    dead_neighbor_count = 0\n",
    "    \n",
    "    for state in neighboring_states:\n",
    "        if state == alive:\n",
    "            alive_neighbor_count += 1\n",
    "        else:\n",
    "            # since all cells are either alive or dead, nothing else\n",
    "            dead_neighbor_count += 1\n",
    "    \n",
    "    # Now, we can implement the rules in python logic:\n",
    "    if old_state == alive:\n",
    "        if alive_neighbor_count < 2:\n",
    "            return dead\n",
    "        elif alive_neighbor_count == 2 or alive_neighbor_count == 3:\n",
    "            return alive\n",
    "        elif alive_neighbor_count > 3:\n",
    "            return dead\n",
    "    elif old_state == dead:\n",
    "        if alive_neighbor_count == 3:\n",
    "            return alive\n",
    "        else:\n",
    "            return dead\n",
    "    \n",
    "    return old_state\n",
    "\n",
    "class GameOfLifeController(BasicController):\n",
    "    \n",
    "    def __init__(self, structure):\n",
    "        self.structure = structure\n",
    "    \n",
    "    def pre_run(self, initial_state):\n",
    "        # Before the simulation runs, we build a neighborhood based on the \n",
    "        # structure of the current simulation.\n",
    "        self.neighborhood = DistanceNeighborhoodBuilder(1.5).get(self.structure)\n",
    "    \n",
    "    def get_state_update(self, site_id, curr_state: SimulationState):\n",
    "        neighbor_site_ids = self.neighborhood.neighbors_of(site_id)\n",
    "        \n",
    "        neighbor_states = []\n",
    "        for nb_site_id in neighbor_site_ids:\n",
    "            neighbor_state = curr_state.get_site_state(nb_site_id)\n",
    "            neighbor_states.append(neighbor_state[state])\n",
    "\n",
    "        current_state = curr_state.get_site_state(site_id)[state]\n",
    "        \n",
    "        new_state = update_state(current_state, neighbor_states)\n",
    "        # print(site_id, current_state, neighbor_states, new_state)\n",
    "        updates = {\n",
    "            state: new_state\n",
    "        }\n",
    "        return updates\n",
    "            "
   ]
  },
  {
   "cell_type": "markdown",
   "id": "47a5db5f-8ef4-4d21-8305-8a59a1109714",
   "metadata": {},
   "source": [
    "Finally, we instantiate our controller and a `Runner`, and let the simulation run for a few steps."
   ]
  },
  {
   "cell_type": "code",
   "execution_count": 83,
   "id": "af7f090e-1af5-4239-9c60-06a6efb7f3ef",
   "metadata": {},
   "outputs": [
    {
     "name": "stderr",
     "output_type": "stream",
     "text": [
      "100%|██████████████████████████████████████| 400/400 [00:01<00:00, 325.96it/s]\n",
      "100%|█████████████████████████████████████| 100/100 [00:00<00:00, 1013.13it/s]\n"
     ]
    }
   ],
   "source": [
    "controller = GameOfLifeController(structure)\n",
    "runner = SynchronousRunner(parallel = True)\n",
    "result = runner.run(initial_state, controller, 100)"
   ]
  },
  {
   "cell_type": "markdown",
   "id": "5ee7303a-c46a-43e1-ae74-8eee0ecf57d1",
   "metadata": {},
   "source": [
    "Using the visualization tool we instantiated earlier, we can see the results here!"
   ]
  },
  {
   "cell_type": "code",
   "execution_count": 87,
   "id": "c4346240-d455-4a76-add4-edf0c7129b85",
   "metadata": {},
   "outputs": [
    {
     "data": {
      "image/png": "[encoded data removed]",
      "text/plain": [
       "<PIL.Image.Image image mode=RGB size=395x300>"
      ]
     },
     "metadata": {},
     "output_type": "display_data"
    },
    {
     "data": {
      "image/png": "[encoded data removed]",
      "text/plain": [
       "<PIL.Image.Image image mode=RGB size=395x300>"
      ]
     },
     "metadata": {},
     "output_type": "display_data"
    },
    {
     "data": {
      "image/png": "[encoded data removed]",
      "text/plain": [
       "<PIL.Image.Image image mode=RGB size=395x300>"
      ]
     },
     "metadata": {},
     "output_type": "display_data"
    }
   ],
   "source": [
    "grid_artist.jupyter_show(result.get_step(10), cell_size=15)\n",
    "grid_artist.jupyter_show(result.get_step(20), cell_size=15)\n",
    "grid_artist.jupyter_show(result.get_step(30), cell_size=15)"
   ]
  },
  {
   "cell_type": "code",
   "execution_count": 88,
   "id": "a90836fd-12ec-4dce-ac48-2614ad2bfcad",
   "metadata": {},
   "outputs": [],
   "source": [
    "from pylattica.visualization import ResultArtist\n",
    "res_artist = ResultArtist(grid_artist, result)\n",
    "res_artist.to_gif(\"out.gif\", wait=0.1)"
   ]
  }
 ],
 "metadata": {
  "kernelspec": {
   "display_name": "pylattica",
   "language": "python",
   "name": "pylattica"
  },
  "language_info": {
   "codemirror_mode": {
    "name": "ipython",
    "version": 3
   },
   "file_extension": ".py",
   "mimetype": "text/x-python",
   "name": "python",
   "nbconvert_exporter": "python",
   "pygments_lexer": "ipython3",
   "version": "3.10.6"
  }
 },
 "nbformat": 4,
 "nbformat_minor": 5
}
