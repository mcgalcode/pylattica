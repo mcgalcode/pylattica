{
 "cells": [
  {
   "cell_type": "code",
   "execution_count": 1,
   "id": "1552cb7a-cedd-49f5-9108-fb0ff55c698c",
   "metadata": {},
   "outputs": [],
   "source": [
    "%load_ext autoreload\n",
    "%autoreload 2"
   ]
  },
  {
   "cell_type": "markdown",
   "id": "06c75664-c856-4a32-ab53-25009f13bd55",
   "metadata": {},
   "source": [
    "# Simulation State in pylattica\n",
    "\n",
    "At the core of every pylattica simulation is a state object. This object is implemented by the `SimulationState` class. The easiest way to think about it is as a dictionary mapping _site IDs_ to state values. These site IDs refer to sites inside the lattice that you've defined for your simulation. Technically, the sites don't have to refer to physically arranged sites, but for the usual application of pylattica, they do.\n",
    "\n",
    "**NOTE: The following examples are to show how the state of the simulation works. In application, the simulation runner performs most of the updates, and you will not explicitly run state update commands**\n",
    "\n",
    "Here's the most basic way to set up a simulation state:"
   ]
  },
  {
   "cell_type": "code",
   "execution_count": 1,
   "id": "d1c75691-3cfd-41d4-aeda-5c97dd7a5f73",
   "metadata": {},
   "outputs": [],
   "source": [
    "from pylattica.core import SimulationState\n",
    "\n",
    "state = SimulationState()"
   ]
  },
  {
   "cell_type": "markdown",
   "id": "be522cc4-018f-4ce3-9b5a-7c5a09e916fa",
   "metadata": {},
   "source": [
    "Now, you can specify the state value for a given site. By default, the site state is `None` for an unknown site."
   ]
  },
  {
   "cell_type": "code",
   "execution_count": 7,
   "id": "3de14b50-5e48-4a92-b1c7-cc2856c4d42d",
   "metadata": {},
   "outputs": [
    {
     "name": "stdout",
     "output_type": "stream",
     "text": [
      "State for site 1 before setting state:  None\n",
      "State for site 1 after setting state:  {'_site_id': 1, 'my state key': 'my state value'}\n"
     ]
    }
   ],
   "source": [
    "print(\"State for site 1 before setting state: \", state.get_site_state(1))\n",
    "state.set_site_state(1, { \"my state key\": \"my state value\"})\n",
    "print(\"State for site 1 after setting state: \", state.get_site_state(1))"
   ]
  },
  {
   "cell_type": "markdown",
   "id": "788d895a-0b30-4a4b-9aec-c5594a84cd52",
   "metadata": {},
   "source": [
    "Note that the simulation state will also return the ID of the site inside the state. This just simplifies calculations during simulations.\n",
    "\n",
    "Setting site state does not completely overwrite the previous state. It instead only overwrites the values that you specify."
   ]
  },
  {
   "cell_type": "code",
   "execution_count": 12,
   "id": "04b47b03-65dd-47bb-be43-d81cc0308ae9",
   "metadata": {},
   "outputs": [
    {
     "data": {
      "text/plain": [
       "{'_site_id': 1,\n",
       " 'my state key': 'my state value',\n",
       " 'another key': 'another value'}"
      ]
     },
     "execution_count": 12,
     "metadata": {},
     "output_type": "execute_result"
    }
   ],
   "source": [
    "state.set_site_state(1, { \"another key\": \"another value\" })\n",
    "state.get_site_state(1)"
   ]
  },
  {
   "cell_type": "markdown",
   "id": "bf819d4d-1e83-4322-b34d-2a33ca3f0e00",
   "metadata": {},
   "source": [
    "Here's how you partially update existing state:"
   ]
  },
  {
   "cell_type": "code",
   "execution_count": 13,
   "id": "8c9a6aae-42b2-4a12-afa9-cfd4ac669d35",
   "metadata": {},
   "outputs": [
    {
     "data": {
      "text/plain": [
       "{'_site_id': 1,\n",
       " 'my state key': 'a brand new value',\n",
       " 'another key': 'another value'}"
      ]
     },
     "execution_count": 13,
     "metadata": {},
     "output_type": "execute_result"
    }
   ],
   "source": [
    "state.set_site_state(1, { \"my state key\": \"a brand new value\" })\n",
    "state.get_site_state(1)"
   ]
  },
  {
   "cell_type": "markdown",
   "id": "80387568-4803-4f89-baf6-b83eb97cfadf",
   "metadata": {},
   "source": [
    "Note that only the state value for `\"my state key\"` was updated."
   ]
  },
  {
   "cell_type": "markdown",
   "id": "48a3e70d-7b78-40a0-ae6e-9f7f395e89c3",
   "metadata": {},
   "source": [
    "#### General State\n",
    "\n",
    "Some simulations require state at each simulation frame that isn't specific to any one single site, but instead applies to the whole simulation frame. The `SimulationState` class supports that with the concept of *General State*. This state is accessed as follows:"
   ]
  },
  {
   "cell_type": "code",
   "execution_count": 8,
   "id": "f5d2e064-9acb-445d-b4e7-719401ce3247",
   "metadata": {},
   "outputs": [
    {
     "data": {
      "text/plain": [
       "{}"
      ]
     },
     "execution_count": 8,
     "metadata": {},
     "output_type": "execute_result"
    }
   ],
   "source": [
    "state.get_general_state()"
   ]
  },
  {
   "cell_type": "markdown",
   "id": "f9dc3921-6d8e-4f2e-961e-89a819d7bdcc",
   "metadata": {},
   "source": [
    "It's a dictionary, just like the state for each site. You can update it like this:"
   ]
  },
  {
   "cell_type": "code",
   "execution_count": 14,
   "id": "6586918d-18fb-4162-ac98-563d7bf9dbe7",
   "metadata": {},
   "outputs": [
    {
     "data": {
      "text/plain": [
       "{'key1': 'value1'}"
      ]
     },
     "execution_count": 14,
     "metadata": {},
     "output_type": "execute_result"
    }
   ],
   "source": [
    "state.set_general_state({\"key1\": \"value1\"})\n",
    "state.get_general_state()"
   ]
  }
 ],
 "metadata": {
  "kernelspec": {
   "display_name": "Python 3 (ipykernel)",
   "language": "python",
   "name": "python3"
  },
  "language_info": {
   "codemirror_mode": {
    "name": "ipython",
    "version": 3
   },
   "file_extension": ".py",
   "mimetype": "text/x-python",
   "name": "python",
   "nbconvert_exporter": "python",
   "pygments_lexer": "ipython3",
   "version": "3.10.6"
  }
 },
 "nbformat": 4,
 "nbformat_minor": 5
}
