{
 "cells": [
  {
   "cell_type": "markdown",
   "id": "a07e0c62-b29f-4752-8e6f-289d3ef041de",
   "metadata": {},
   "source": [
    "# Constructing Custom Lattices"
   ]
  },
  {
   "cell_type": "markdown",
   "id": "3af8bb7d-878f-4c9b-be6a-4b5ce3416bb7",
   "metadata": {},
   "source": [
    "Under development"
   ]
  }
 ],
 "metadata": {
  "kernelspec": {
   "display_name": "Python 3 (ipykernel)",
   "language": "python",
   "name": "python3"
  },
  "language_info": {
   "codemirror_mode": {
    "name": "ipython",
    "version": 3
   },
   "file_extension": ".py",
   "mimetype": "text/x-python",
   "name": "python",
   "nbconvert_exporter": "python",
   "pygments_lexer": "ipython3",
   "version": "3.10.6"
  }
 },
 "nbformat": 4,
 "nbformat_minor": 5
}
