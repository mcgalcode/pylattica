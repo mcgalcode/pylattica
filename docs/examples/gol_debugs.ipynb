{
 "cells": [
  {
   "cell_type": "code",
   "execution_count": 20,
   "id": "e7b9583e-67fe-41db-aec3-8c079186f317",
   "metadata": {},
   "outputs": [
    {
     "name": "stdout",
     "output_type": "stream",
     "text": [
      "The autoreload extension is already loaded. To reload it, use:\n",
      "  %reload_ext autoreload\n"
     ]
    }
   ],
   "source": [
    "%load_ext autoreload\n",
    "%autoreload 2"
   ]
  },
  {
   "cell_type": "code",
   "execution_count": 21,
   "id": "0e7756c5-553a-42c8-a3ad-8684252d7f20",
   "metadata": {},
   "outputs": [],
   "source": [
    "from pylattica.core import BasicController, Runner, SimulationState\n",
    "from pylattica.square_grid import MooreNbHoodBuilder, VonNeumannNbHood2DBuilder\n",
    "from pylattica.discrete.state_constants import DISCRETE_OCCUPANCY\n",
    "from pylattica.models.game_of_life import Maze"
   ]
  },
  {
   "cell_type": "code",
   "execution_count": 24,
   "id": "1f6fdfac-eead-43d4-889a-883cd1a2a5c2",
   "metadata": {},
   "outputs": [
    {
     "name": "stderr",
     "output_type": "stream",
     "text": [
      "100%|██████████████████████████████████████| 22500/22500 [00:00<00:00, 71228.92it/s]\n",
      "100%|█████████████████████████████████████████████| 200/200 [00:23<00:00,  8.61it/s]\n"
     ]
    }
   ],
   "source": [
    "from pylattica.discrete import PhaseSet\n",
    "from pylattica.square_grid.grid_setup import DiscreteGridSetup\n",
    "from pylattica.visualization import DiscreteSquareGridArtist2D, DiscreteSquareGridResultArtist\n",
    "phases = PhaseSet([\"dead\", \"alive\"])\n",
    "setup = DiscreteGridSetup(phases)\n",
    "starting_state = setup.setup_particle(150, 30, \"dead\", \"alive\")\n",
    "artist = DiscreteSquareGridArtist2D()\n",
    "controller = Maze()\n",
    "runner = Runner(parallel=True)\n",
    "result = runner.run(starting_state.state, controller, 200, structure=starting_state.structure, verbose=False)"
   ]
  },
  {
   "cell_type": "code",
   "execution_count": 25,
   "id": "e314d7a1-1895-4b83-b267-966c4757ea34",
   "metadata": {},
   "outputs": [],
   "source": [
    "res_artist = DiscreteSquareGridResultArtist(artist, result)\n",
    "res_artist.to_gif(\"out.gif\", wait=0.2, cell_size=5)"
   ]
  },
  {
   "cell_type": "code",
   "execution_count": null,
   "id": "25d58bd2-e2e4-49b0-a168-c7ab66da5c69",
   "metadata": {},
   "outputs": [],
   "source": []
  }
 ],
 "metadata": {
  "kernelspec": {
   "display_name": "Python 3 (ipykernel)",
   "language": "python",
   "name": "python3"
  },
  "language_info": {
   "codemirror_mode": {
    "name": "ipython",
    "version": 3
   },
   "file_extension": ".py",
   "mimetype": "text/x-python",
   "name": "python",
   "nbconvert_exporter": "python",
   "pygments_lexer": "ipython3",
   "version": "3.10.6"
  }
 },
 "nbformat": 4,
 "nbformat_minor": 5
}
