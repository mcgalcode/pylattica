{
 "cells": [
  {
   "cell_type": "code",
   "execution_count": 1,
   "id": "9fd3e98c-27fd-450d-ae6d-027a46a50b4d",
   "metadata": {},
   "outputs": [],
   "source": [
    "%load_ext autoreload\n",
    "%autoreload 2"
   ]
  },
  {
   "cell_type": "markdown",
   "id": "a07e0c62-b29f-4752-8e6f-289d3ef041de",
   "metadata": {
    "tags": []
   },
   "source": [
    "# Constructing Custom Lattices\n",
    "\n",
    "`pylattica` is used to simulate systems and models which represent some kind of lattice - i.e. a tiling of some basic shape that yields many identical sites (such as an atomic crystal structure, the square grids used in classical cellular automata, or the hexagonal grids used in lattice-gas automata). This guide illustrates how lattices of any shape and periodicity can be constructed using `pylattica`."
   ]
  },
  {
   "cell_type": "code",
   "execution_count": 2,
   "id": "71a1f81f-1b40-4bf4-9a33-88eefd07e3c2",
   "metadata": {},
   "outputs": [],
   "source": [
    "from pylattica.core import Lattice"
   ]
  },
  {
   "cell_type": "markdown",
   "id": "766d1128-514c-4223-91e8-3e1b4643c8a0",
   "metadata": {},
   "source": [
    "### Defining a lattice\n",
    "\n",
    "A lattice is defined by its lattice vectors. Its dimensionality is given by the number of vectors (which should equal their length) used to define it. Below, two lattice vectors are used to define a two-dimensional square lattice. They are the unit vectors in the two primary cartesian directions. These vectors do not have to have any particular length."
   ]
  },
  {
   "cell_type": "code",
   "execution_count": 3,
   "id": "74cc0cfd-12dd-4f4a-a7c9-9f419885a872",
   "metadata": {},
   "outputs": [],
   "source": [
    "square_grid_2d = Lattice([\n",
    "    [1, 0],\n",
    "    [0, 1]\n",
    "])"
   ]
  },
  {
   "cell_type": "markdown",
   "id": "7a3df6e2-e447-4167-a972-afafa976217f",
   "metadata": {},
   "source": [
    "To construct an [Oblique lattice](https://en.wikipedia.org/wiki/Oblique_lattice), we use the same procedure, but with a different pair of vectors. Note that in this case, the first vector is not a unit vector."
   ]
  },
  {
   "cell_type": "code",
   "execution_count": 4,
   "id": "a3cfdf4e-f1e3-4808-becd-4373e91a8870",
   "metadata": {},
   "outputs": [],
   "source": [
    "oblique = Lattice([\n",
    "    [1, 1],\n",
    "    [1, 0]\n",
    "]) "
   ]
  },
  {
   "cell_type": "markdown",
   "id": "b1b3bb7e-8161-48c5-b5b9-219b0c896f20",
   "metadata": {},
   "source": [
    "### Fractional and Cartesian Coordinates\n",
    "\n",
    "Lattices provide methods for switching between cartesian and fractional coordinates, as shown below. We illustrate by using our oblique lattice."
   ]
  },
  {
   "cell_type": "code",
   "execution_count": 5,
   "id": "df9250a4-5b94-4dfb-9f7c-3a8a8dbd1072",
   "metadata": {},
   "outputs": [],
   "source": [
    "cart_coord = (0.5, 0.25)"
   ]
  },
  {
   "cell_type": "markdown",
   "id": "4e14a9e4-2eb9-419b-9e67-036c724cc16b",
   "metadata": {},
   "source": [
    "Converting to fractional coordinates means that we are performing a _change of basis_ operation from the intuitive orthogonal Cartesian basis to the basis defined by the lattice vectors.\n",
    "\n",
    "We can see that this point can be decomposed as 0.25 times our first lattice vector, and 0.25 times our second lattice vector. Recall that the lattice vectors are defined a few cells above."
   ]
  },
  {
   "cell_type": "code",
   "execution_count": 6,
   "id": "6bdeff1d-72f6-408e-9f55-0ac987807992",
   "metadata": {},
   "outputs": [
    {
     "name": "stdout",
     "output_type": "stream",
     "text": [
      "Fractional coordinate is:  [0.25 0.25]\n"
     ]
    }
   ],
   "source": [
    "frac_coord = oblique.get_fractional_coords(cart_coord)\n",
    "print(\"Fractional coordinate is: \", frac_coord)"
   ]
  },
  {
   "cell_type": "markdown",
   "id": "c4fcdbca-d42a-4a4c-96bd-ddcd2f16f966",
   "metadata": {},
   "source": [
    "We can also convert back from the fractional representation of our coordinate to the Cartesian form of our coordinate. This is also a change of basis operation."
   ]
  },
  {
   "cell_type": "code",
   "execution_count": 7,
   "id": "593094ac-41af-4092-bc57-fd346091c9c5",
   "metadata": {},
   "outputs": [
    {
     "name": "stdout",
     "output_type": "stream",
     "text": [
      "Cartesian coordinate, again:  [0.5  0.25]\n"
     ]
    }
   ],
   "source": [
    "resolved_cart_coord = oblique.get_cartesian_coords(frac_coord)\n",
    "print(\"Cartesian coordinate, again: \", resolved_cart_coord)"
   ]
  },
  {
   "cell_type": "markdown",
   "id": "cdd0da0e-f1b4-4274-9faf-40e50490db10",
   "metadata": {},
   "source": [
    "Note that this is the same value as our original point."
   ]
  },
  {
   "cell_type": "markdown",
   "id": "15257504-8601-4bf1-81f1-552cdd6ad5e1",
   "metadata": {},
   "source": [
    "### Periodicity\n",
    "\n",
    "In pylattica, Lattices are by default periodic in all directions, but periodicity can be specified in any subset of directions. Periodicity just means that the methods for returning periodic points will always return the point inside the unit cell, according to the periodic boundary conditions. Lets illustrate with our square 2D grid, which is periodic in all directions."
   ]
  },
  {
   "cell_type": "code",
   "execution_count": 8,
   "id": "b68d47cc-d10b-4845-987b-98aa612787cd",
   "metadata": {},
   "outputs": [],
   "source": [
    "cart_coord = (1.5, 0.5)"
   ]
  },
  {
   "cell_type": "markdown",
   "id": "770b3855-6f8f-4abd-9b5b-3e7bc9d52f76",
   "metadata": {},
   "source": [
    "This point is outside the unit cell (because the lattice vectors are (1, 0) and (0, 1), bounding a square of side length 1). Since period boundary conditions apply in all directions by default, we can expect our Lattice to convert this to the point in the middle of the cell (0.5, 0.5):"
   ]
  },
  {
   "cell_type": "code",
   "execution_count": 9,
   "id": "af8e7b94-f606-4583-80e0-a4b06d129605",
   "metadata": {},
   "outputs": [
    {
     "name": "stdout",
     "output_type": "stream",
     "text": [
      "Periodized point:  [0.5 0.5]\n"
     ]
    }
   ],
   "source": [
    "periodized_pt = square_grid_2d.get_periodized_cartesian_coords(cart_coord)\n",
    "print(\"Periodized point: \", periodized_pt)"
   ]
  },
  {
   "cell_type": "markdown",
   "id": "99cc29f5-e7d0-46f4-bb48-a1bea9eac300",
   "metadata": {},
   "source": [
    "Negative coordinates are also allowed. Here's a point that's totally outside the unit cell, in the negative direction:"
   ]
  },
  {
   "cell_type": "code",
   "execution_count": 10,
   "id": "6499989b-7fd6-4ad1-b0f4-a57c7c3bbd16",
   "metadata": {},
   "outputs": [
    {
     "name": "stdout",
     "output_type": "stream",
     "text": [
      "Periodized point:  [0.7 0.8]\n"
     ]
    }
   ],
   "source": [
    "cart_coord = (-1.3, -0.2)\n",
    "periodized_pt = square_grid_2d.get_periodized_cartesian_coords(cart_coord)\n",
    "print(\"Periodized point: \", periodized_pt)"
   ]
  },
  {
   "cell_type": "markdown",
   "id": "08db380d-62cb-4bc2-b0c1-26a6ee35279f",
   "metadata": {},
   "source": [
    "Note that this point has come back in from the top right corner of the cell."
   ]
  },
  {
   "cell_type": "markdown",
   "id": "d90a3c99-d8a8-4816-bde8-c54f37086255",
   "metadata": {},
   "source": [
    "### Partial Periodicity\n",
    "\n",
    "You can specify that a lattice is not periodic when instantiating the lattice:"
   ]
  },
  {
   "cell_type": "code",
   "execution_count": 11,
   "id": "7c562f02-5d01-4f27-b6ea-c96f730d3fa3",
   "metadata": {},
   "outputs": [],
   "source": [
    "lattice_vecs = [\n",
    "    [1, 0],\n",
    "    [0, 1]\n",
    "]\n",
    "\n",
    "aperiodic_lat = Lattice(lattice_vecs, periodic=False)"
   ]
  },
  {
   "cell_type": "markdown",
   "id": "47ea61a6-6f04-48e1-a9fd-65f1585398b7",
   "metadata": {},
   "source": [
    "Now, when we periodize a point as before, the coordinates remain unchanged."
   ]
  },
  {
   "cell_type": "code",
   "execution_count": 12,
   "id": "a8ad1d87-a51c-44d8-b12a-1aeaaf6c1e7a",
   "metadata": {},
   "outputs": [
    {
     "name": "stdout",
     "output_type": "stream",
     "text": [
      "Periodized point (same as cart_coords):  [1.5 1.2]\n"
     ]
    }
   ],
   "source": [
    "cart_coords = (1.5, 1.2)\n",
    "periodized_pt = aperiodic_lat.get_periodized_cartesian_coords(cart_coords)\n",
    "print(\"Periodized point (same as cart_coords): \", periodized_pt)"
   ]
  },
  {
   "cell_type": "markdown",
   "id": "0366602f-25cd-4257-8f4c-006ccd9bfca7",
   "metadata": {},
   "source": [
    "We can also specify that our lattice is periodic in only some of it's dimensions, like so:"
   ]
  },
  {
   "cell_type": "code",
   "execution_count": 13,
   "id": "c0128e10-fdff-4bc6-9078-b2a32b4775f0",
   "metadata": {},
   "outputs": [],
   "source": [
    "partially_periodic = Lattice(lattice_vecs, periodic=(True, False))"
   ]
  },
  {
   "cell_type": "markdown",
   "id": "777e608d-7fda-4daa-b7b4-d14791240141",
   "metadata": {},
   "source": [
    "This lattice has periodic boundary conditions in the direction of the first lattice vector, but not in the direction of the other.\n",
    "\n",
    "See here:"
   ]
  },
  {
   "cell_type": "code",
   "execution_count": 15,
   "id": "bc706ed8-033d-4690-bf85-4968b0d01db1",
   "metadata": {},
   "outputs": [
    {
     "name": "stdout",
     "output_type": "stream",
     "text": [
      "Periodized point:  [0.5 1.5]\n"
     ]
    }
   ],
   "source": [
    "cart_coords = (1.5, 1.5)\n",
    "periodized_pt = partially_periodic.get_periodized_cartesian_coords(cart_coords)\n",
    "print(\"Periodized point: \", periodized_pt)"
   ]
  },
  {
   "cell_type": "markdown",
   "id": "9286e595-f60c-4b7f-bd13-3b603f8dadf7",
   "metadata": {},
   "source": [
    "### Distances under periodic boundary conditions\n",
    "\n",
    "Under periodic boundary conditions, distances are given as the smallest possible distance between two points, given the periodic boundary conditions. In other words, the shortest line connecting the two points may cross one of the boundaries, as opposed to spanning the interior of the lattice unit cell.\n",
    "\n",
    "A demonstration below shows this."
   ]
  },
  {
   "cell_type": "code",
   "execution_count": 26,
   "id": "082949e2-eb87-42a8-90cc-53f0e781dcf3",
   "metadata": {},
   "outputs": [
    {
     "name": "stdout",
     "output_type": "stream",
     "text": [
      "Distance under periodic boundary conditions:  0.2\n",
      "Distance under nonperiodic boundary conditions:  0.8\n"
     ]
    }
   ],
   "source": [
    "lattice_vecs = [\n",
    "    [1, 0],\n",
    "    [0, 1]\n",
    "]\n",
    "\n",
    "periodic_lattice = Lattice(lattice_vecs)\n",
    "nonperiodic_lattice = Lattice(lattice_vecs, periodic=False)\n",
    "\n",
    "pt1 = (0.1, 0.5)\n",
    "pt2 = (0.9, 0.5)\n",
    "\n",
    "print(\"Distance under periodic boundary conditions: \", periodic_lattice.cartesian_periodic_distance(pt1, pt2))\n",
    "print(\"Distance under nonperiodic boundary conditions: \", nonperiodic_lattice.cartesian_periodic_distance(pt1, pt2))"
   ]
  },
  {
   "cell_type": "markdown",
   "id": "f6938959-2d6b-483c-b92f-792a5f068615",
   "metadata": {},
   "source": [
    "### Scaling a Lattice\n",
    "\n",
    "Each `Lattice` object is used to determine positions inside a `PeriodicStructure`. This means that the `Lattice` should be as large as the simulation structure. When a `PeriodicStructure` is created, the lattice is scaled to the desired size. Although this is very rarely done manually, it can be done like so:"
   ]
  },
  {
   "cell_type": "code",
   "execution_count": 18,
   "id": "c8370fc5-d267-4383-8a0e-3d7e62dd02a8",
   "metadata": {},
   "outputs": [
    {
     "name": "stdout",
     "output_type": "stream",
     "text": [
      "Lattice vector lengths:  [1.0, 1.0]\n"
     ]
    }
   ],
   "source": [
    "unscaled_lattice = Lattice(lattice_vecs)\n",
    "print(\"Lattice vector lengths: \", unscaled_lattice.vec_lengths)"
   ]
  },
  {
   "cell_type": "code",
   "execution_count": 20,
   "id": "f5b39bec-c31c-4405-939d-ce556e4ba7cc",
   "metadata": {},
   "outputs": [
    {
     "name": "stdout",
     "output_type": "stream",
     "text": [
      "Scaled lattice vector lengths:  [2.0, 2.0]\n"
     ]
    }
   ],
   "source": [
    "scaled_lattice = unscaled_lattice.get_scaled_lattice((2,2))\n",
    "print(\"Scaled lattice vector lengths: \", scaled_lattice.vec_lengths)"
   ]
  },
  {
   "cell_type": "markdown",
   "id": "af4a3540-d133-40ee-a5c4-de4b6f19c6a4",
   "metadata": {},
   "source": [
    "Note that the periodization is different, and reflects the larger size of the scaled lattice:"
   ]
  },
  {
   "cell_type": "code",
   "execution_count": 22,
   "id": "8d3af911-d92f-4c14-9b29-aafb980ba712",
   "metadata": {},
   "outputs": [
    {
     "name": "stdout",
     "output_type": "stream",
     "text": [
      "Point in unscaled lattice:  [0.5 0.5]\n",
      "Point in scaled lattice:  [1.5 1.5]\n"
     ]
    }
   ],
   "source": [
    "point = (1.5, 1.5)\n",
    "print(\"Point in unscaled lattice: \", unscaled_lattice.get_periodized_cartesian_coords(point))\n",
    "print(\"Point in scaled lattice: \", scaled_lattice.get_periodized_cartesian_coords(point))"
   ]
  }
 ],
 "metadata": {
  "kernelspec": {
   "display_name": "Python 3 (ipykernel)",
   "language": "python",
   "name": "python3"
  },
  "language_info": {
   "codemirror_mode": {
    "name": "ipython",
    "version": 3
   },
   "file_extension": ".py",
   "mimetype": "text/x-python",
   "name": "python",
   "nbconvert_exporter": "python",
   "pygments_lexer": "ipython3",
   "version": "3.10.6"
  }
 },
 "nbformat": 4,
 "nbformat_minor": 5
}
