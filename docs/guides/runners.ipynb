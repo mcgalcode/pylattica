{
 "cells": [
  {
   "cell_type": "code",
   "execution_count": 1,
   "id": "1879810a-4af4-4601-bd03-df77dae0adc9",
   "metadata": {},
   "outputs": [],
   "source": [
    "%load_ext autoreload\n",
    "%autoreload 2"
   ]
  },
  {
   "cell_type": "markdown",
   "id": "9ef21048-b0f2-468b-bdca-3b298b91eecb",
   "metadata": {
    "tags": []
   },
   "source": [
    "# Runners\n",
    "\n",
    "After you have defined the form of your `SimulationState`, the shape of the `Lattice`, `PeriodicStructure` and `Neighborhood` and the `Controller` that implements your update rule, you are ready to run your simulation! The entity responsible for running the simulation is called a `Runner`. In `pylattica` there are two types of runners which run the simulation differently.\n",
    "\n",
    "1. `SynchronousRunner` - This runner calculates and applies updates to _every site at once_ during each simulation step.\n",
    "2. `AsynchronousRunner` - This runner calculates and applies updates to _a single site at a time_ during each simulation step.\n",
    "\n",
    "The `SynchronousRunner` behaves like a typical cellular automaton would. It's updates can be parallelized. The `AsynchronousRunner` is useful for implementing Monte Carlo type simulations, or \"asynchronous automata\", in which multiple cell states are updated during a single invocation of the update rule.\n",
    "\n",
    "## Set up\n",
    "Before we dive into these distinctions, let's set up a small 2D square grid structure using some of the helper classes provided by `pylattica`."
   ]
  },
  {
   "cell_type": "code",
   "execution_count": 2,
   "id": "6169399a-4866-40f2-9812-588f5f8ba07a",
   "metadata": {},
   "outputs": [],
   "source": [
    "from pylattica.structures.square_grid import SimpleSquare2DStructureBuilder\n",
    "\n",
    "structure = SimpleSquare2DStructureBuilder().build(10)"
   ]
  },
  {
   "cell_type": "markdown",
   "id": "9e2f9b27-3aab-4a92-8aeb-8badb1effd2b",
   "metadata": {},
   "source": [
    "Let's also set up a [Von Neumann neighborhood](https://en.wikipedia.org/wiki/Von_Neumann_neighborhood) to use here (also using a `pylattica` helper)."
   ]
  },
  {
   "cell_type": "code",
   "execution_count": 3,
   "id": "750d01c4-01c9-442a-b0c0-eb73e5b786ad",
   "metadata": {},
   "outputs": [
    {
     "name": "stderr",
     "output_type": "stream",
     "text": [
      "100%|████████████████████████████████████| 100/100 [00:00<00:00, 18416.26it/s]\n"
     ]
    }
   ],
   "source": [
    "from pylattica.structures.square_grid.neighborhoods import VonNeumannNbHood2DBuilder\n",
    "\n",
    "nbhood = VonNeumannNbHood2DBuilder().get(structure)"
   ]
  },
  {
   "cell_type": "markdown",
   "id": "bef94743-486a-472e-8d0e-7a3f9751646b",
   "metadata": {},
   "source": [
    "And finally, let's agree on a simulation state where the state at each cell looks like this:\n",
    "```\n",
    "{\n",
    "    \"value\": %some integer value%\n",
    "}\n",
    "```\n",
    "\n",
    "Let's also agree that the values will fall within the range 1 - 10.\n",
    "\n",
    "With that, we can construct a starting state for our simulation."
   ]
  },
  {
   "cell_type": "code",
   "execution_count": 4,
   "id": "d8d32894-1def-4a1e-a825-ac26df8605aa",
   "metadata": {},
   "outputs": [],
   "source": [
    "from pylattica.core import SimulationState\n",
    "\n",
    "starting_state = SimulationState.from_struct(structure)"
   ]
  },
  {
   "cell_type": "markdown",
   "id": "60d8583d-28ae-4b19-8a67-8d090a58d087",
   "metadata": {},
   "source": [
    "And assign random values between 1 and 10 to each site in the structure. I'm putting this in a function so we can reuse it later in the guide."
   ]
  },
  {
   "cell_type": "code",
   "execution_count": 5,
   "id": "b2d4a539-8f21-4ddf-b1f1-e22941857a3d",
   "metadata": {},
   "outputs": [],
   "source": [
    "import random\n",
    "\n",
    "def set_random_state(state):\n",
    "    for site_id in structure.site_ids:\n",
    "        state.set_site_state(site_id, {\n",
    "            \"value\": random.randint(1,10)\n",
    "        })\n",
    "\n",
    "set_random_state(starting_state)"
   ]
  },
  {
   "cell_type": "markdown",
   "id": "602bbc5a-71fa-411b-9a85-7c9d5eac78f2",
   "metadata": {},
   "source": [
    "We can visualize this state by creating a color scale corresponding to the sites 1 through 10:"
   ]
  },
  {
   "cell_type": "code",
   "execution_count": 6,
   "id": "705db01a-11f5-4cdc-bc5f-3a3a075a46fb",
   "metadata": {},
   "outputs": [
    {
     "data": {
      "image/png": "[encoded data removed]",
      "text/plain": [
       "<PIL.Image.Image image mode=RGB size=325x220>"
      ]
     },
     "metadata": {},
     "output_type": "display_data"
    }
   ],
   "source": [
    "from pylattica.visualization import SquareGridArtist2D, DiscreteCellArtist\n",
    "\n",
    "color_scale = {}\n",
    "\n",
    "for i in range(1,11):\n",
    "    color_scale[i] = (30, int((i - 1) * 255/10), 30)\n",
    "    \n",
    "cell_artist = DiscreteCellArtist(color_map = color_scale, state_key=\"value\")\n",
    "step_artist = SquareGridArtist2D(structure, cell_artist)\n",
    "\n",
    "step_artist.jupyter_show(starting_state, cell_size=20)"
   ]
  },
  {
   "cell_type": "markdown",
   "id": "8c3a2028-6fdb-4670-b242-95ff6261ec94",
   "metadata": {},
   "source": [
    "## Synchronous Controller and Evolution\n",
    "\n",
    "To demonstrate the `SynchronousRunner`, we need an update rule that only affects the state of a single site at a time. A good simple example would be: the future value at a cell is given by incrementing the previous value, unless the value is at a maximum (10).\n",
    "\n",
    "Let's implement this rule in a controller."
   ]
  },
  {
   "cell_type": "code",
   "execution_count": 7,
   "id": "8d0037ba-75d0-4aba-acb7-c3fe848287b2",
   "metadata": {},
   "outputs": [],
   "source": [
    "from pylattica.core import BasicController\n",
    "\n",
    "class SyncController(BasicController):\n",
    "    \n",
    "    def get_state_update(self, site_id: int, prev_state: SimulationState):\n",
    "        prev_site_val = prev_state.get_site_state(site_id).get(\"value\")\n",
    "        if prev_site_val < 10:\n",
    "            new_site_val = prev_site_val + 1\n",
    "        else:\n",
    "            new_site_val = prev_site_val\n",
    "            \n",
    "        return {\n",
    "            \"value\": new_site_val\n",
    "        }"
   ]
  },
  {
   "cell_type": "markdown",
   "id": "0ddeb0be-a592-4215-aae1-aaac60acc755",
   "metadata": {},
   "source": [
    "And now we can instantiate a `SynchronousRunner` and run our simulation for 10 steps. \n",
    "\n",
    "> **NOTE**: Since every site is updated during each step, we expect every site to have a value of 10 by the end.\n",
    "\n",
    "Let's generate a new starting state and look at it so we know where we are starting from?"
   ]
  },
  {
   "cell_type": "code",
   "execution_count": 8,
   "id": "3ef49f92-0070-4a82-9f59-06674c0d1dc7",
   "metadata": {},
   "outputs": [
    {
     "data": {
      "image/png": "[encoded data removed]",
      "text/plain": [
       "<PIL.Image.Image image mode=RGB size=325x220>"
      ]
     },
     "metadata": {},
     "output_type": "display_data"
    }
   ],
   "source": [
    "sync_starting_state = SimulationState.from_struct(structure)\n",
    "set_random_state(sync_starting_state)\n",
    "\n",
    "step_artist.jupyter_show(starting_state, cell_size=20)"
   ]
  },
  {
   "cell_type": "markdown",
   "id": "c6c6582a-1384-4423-b3a9-4bffcd01cb17",
   "metadata": {},
   "source": [
    "And now let's run for 10 steps:"
   ]
  },
  {
   "cell_type": "code",
   "execution_count": 9,
   "id": "56920b0e-2989-4af1-99d7-b14a37550dde",
   "metadata": {},
   "outputs": [
    {
     "name": "stderr",
     "output_type": "stream",
     "text": [
      "100%|███████████████████████████████████████| 10/10 [00:00<00:00, 9754.20it/s]\n"
     ]
    }
   ],
   "source": [
    "from pylattica.core.runner import SynchronousRunner\n",
    "\n",
    "sync_runner = SynchronousRunner()\n",
    "sync_cont = SyncController()\n",
    "num_steps = 10\n",
    "\n",
    "sync_result = sync_runner.run(starting_state, sync_cont, num_steps)"
   ]
  },
  {
   "cell_type": "markdown",
   "id": "3972f35e-323f-4700-bb98-06e68a033b56",
   "metadata": {},
   "source": [
    "Finally, we can visualize the last step of this simulation:"
   ]
  },
  {
   "cell_type": "code",
   "execution_count": 10,
   "id": "8dab4b48-1259-4cce-a6ef-ddded7d76c57",
   "metadata": {},
   "outputs": [
    {
     "data": {
      "image/png": "[encoded data removed]",
      "text/plain": [
       "<PIL.Image.Image image mode=RGB size=325x200>"
      ]
     },
     "metadata": {},
     "output_type": "display_data"
    }
   ],
   "source": [
    "step_artist.jupyter_show(sync_result.last_step)"
   ]
  },
  {
   "cell_type": "markdown",
   "id": "7ded3348-52e0-4a77-834e-e1ab8cb3e8b4",
   "metadata": {},
   "source": [
    "As expected, every cell has been incremented to 10.\n",
    "\n",
    "We can also look at an intermediate step in the result:"
   ]
  },
  {
   "cell_type": "code",
   "execution_count": 11,
   "id": "2a3c26d7-8c9b-4920-b7ee-8baa2c8e3cab",
   "metadata": {},
   "outputs": [
    {
     "data": {
      "image/png": "[encoded data removed]",
      "text/plain": [
       "<PIL.Image.Image image mode=RGB size=325x200>"
      ]
     },
     "metadata": {},
     "output_type": "display_data"
    }
   ],
   "source": [
    "step_artist.jupyter_show(sync_result.get_step(5))"
   ]
  },
  {
   "cell_type": "markdown",
   "id": "429d324b-695c-420b-831c-3adb24bdb7d0",
   "metadata": {},
   "source": [
    "As we expect, there are no cell states below 5 since every cell has been updated at least 5 times by this point."
   ]
  },
  {
   "cell_type": "markdown",
   "id": "a3d6c986-2fb8-422a-a173-c8742d94b3af",
   "metadata": {},
   "source": [
    "## Asynchronous Controller and Evolution\n",
    "\n",
    "We will continue our demonstration of `Runner` objects using the same structure and simulation state seen above, but we will tweak our update rule slightly.\n",
    "\n",
    "First, instead of incrementing by one during every update, let's say each update will _randomly_ increment or decrement the cell it's applied to.\n",
    "\n",
    "_Additionally,_ assume we want to conserve the sum of the values present in our simulation. In other words, if at any simulation step, we added up the values held by every cell, we would expect to see the same total.\n",
    "\n",
    "This would be impossible to achieve with a `SynchronousController` because the total value is a _conserved quantity_. The `SynchronousController` updates every site at once and therefore cannot coordinate site changes. There is no way to conserve a quantity unless we know all the changes that will take place during a given simulation step. This situation is encountered frequently - for instance, in the case of an adsorbed atom moving around on the surface of a crystal, the movement can only be represented by updating neighboring site states simultaneously.\n",
    "\n",
    "Note that we are removing the bounds on possible values, so our color scale may not be relevant.\n",
    "\n",
    "Let's make this concrete by implementing the `Controller` that does this."
   ]
  },
  {
   "cell_type": "code",
   "execution_count": 26,
   "id": "8b9233ea-cdff-4a56-bcd3-064f5ac2fceb",
   "metadata": {},
   "outputs": [],
   "source": [
    "class AsyncController(BasicController):\n",
    "    \n",
    "    def get_state_update(self, site_id: int, prev_state: SimulationState):\n",
    "        prev_site_val = prev_state.get_site_state(site_id).get(\"value\")\n",
    "        \n",
    "        neighbors = nbhood.neighbors_of(site_id)\n",
    "        rand_nb_id = random.choice(neighbors)\n",
    "        \n",
    "        prev_nb_val = prev_state.get_site_state(rand_nb_id).get(\"value\")\n",
    "        \n",
    "        direction = random.choice([-1, 1])\n",
    "        new_site_val = prev_site_val + direction\n",
    "        new_nb_val = prev_nb_val - direction\n",
    "        \n",
    "        return {\n",
    "            site_id: {\n",
    "                \"value\": new_site_val\n",
    "            },\n",
    "            rand_nb_id: {\n",
    "                \"value\": new_nb_val\n",
    "            }   \n",
    "        }"
   ]
  },
  {
   "cell_type": "markdown",
   "id": "57765b82-3f4c-4b02-be05-37bfc25336eb",
   "metadata": {},
   "source": [
    "We also need a new color scale for this. Here's a color scale where the intensity of the green is related to the absolute value of the cell's state."
   ]
  },
  {
   "cell_type": "code",
   "execution_count": 27,
   "id": "665a2aee-a8e5-4321-bf32-be3246d55857",
   "metadata": {},
   "outputs": [],
   "source": [
    "import math\n",
    "\n",
    "color_scale = {}\n",
    "\n",
    "b = 30\n",
    "\n",
    "for i in range(-b, b + 1):\n",
    "    color_scale[i] = (30, int(math.fabs(i - 1) * 255/(b)), 30)\n",
    "    \n",
    "legend = {}\n",
    "\n",
    "for i in range(-b, b + 1, int((b+b)/ 10)):\n",
    "    legend[str(i)] = color_scale[i]\n",
    "\n",
    "cell_artist = DiscreteCellArtist(color_map = color_scale, state_key=\"value\", legend = legend)\n",
    "step_artist = SquareGridArtist2D(structure, cell_artist)"
   ]
  },
  {
   "cell_type": "markdown",
   "id": "d6cf1315-6d88-4e6d-82b1-085932d3c443",
   "metadata": {},
   "source": [
    "Additionally, let's create a starting state where every cell value is 0."
   ]
  },
  {
   "cell_type": "code",
   "execution_count": 28,
   "id": "c8626f11-ef30-43f7-90a3-e09449a09f3b",
   "metadata": {},
   "outputs": [],
   "source": [
    "async_starting_state = SimulationState.from_struct(structure)\n",
    "\n",
    "for site_id in structure.site_ids:\n",
    "    async_starting_state.set_site_state(site_id, { \"value\": 0 })"
   ]
  },
  {
   "cell_type": "markdown",
   "id": "9683df0a-f601-49ef-8003-b821aa50b7bf",
   "metadata": {},
   "source": [
    "We can see by visualization that every site has a value of 0:"
   ]
  },
  {
   "cell_type": "code",
   "execution_count": 29,
   "id": "0bd46974-c93d-48a1-8fe7-508b1359330b",
   "metadata": {},
   "outputs": [
    {
     "data": {
      "image/png": "[encoded data removed]",
      "text/plain": [
       "<PIL.Image.Image image mode=RGB size=325x240>"
      ]
     },
     "metadata": {},
     "output_type": "display_data"
    }
   ],
   "source": [
    "step_artist.jupyter_show(async_starting_state, cell_size=20)"
   ]
  },
  {
   "cell_type": "markdown",
   "id": "151a2274-eaab-4b38-81d3-18ad21880e4a",
   "metadata": {},
   "source": [
    "But we can also make a helper function that adds the state values up to see that the total is 0:"
   ]
  },
  {
   "cell_type": "code",
   "execution_count": 30,
   "id": "38c85dd1-805a-4ebd-b909-026137a1dc97",
   "metadata": {},
   "outputs": [
    {
     "name": "stdout",
     "output_type": "stream",
     "text": [
      "The total of all sites for the starting state is: 0\n"
     ]
    }
   ],
   "source": [
    "def get_total(state: SimulationState):\n",
    "    total = 0\n",
    "    for state in state.all_site_states():\n",
    "        total += state.get(\"value\")\n",
    "    return total\n",
    "\n",
    "print(\"The total of all sites for the starting state is:\", get_total(sync_starting_state))"
   ]
  },
  {
   "cell_type": "markdown",
   "id": "34205b54-30d4-4e50-8652-ab3622f1e635",
   "metadata": {},
   "source": [
    "Great, as expected, the total is zero. Now let's run our simulation and see how this changes."
   ]
  },
  {
   "cell_type": "code",
   "execution_count": 32,
   "id": "a5344521-b01b-455e-a86d-fed0b15616e2",
   "metadata": {},
   "outputs": [],
   "source": [
    "from pylattica.core.runner import AsynchronousRunner\n",
    "\n",
    "runner = AsynchronousRunner()\n",
    "controller = AsyncController()\n",
    "num_steps = 100\n",
    "\n",
    "async_result = runner.run(async_starting_state, controller, num_steps)"
   ]
  },
  {
   "cell_type": "markdown",
   "id": "7fedcbad-a5b3-44ee-930f-cc602b56f1b6",
   "metadata": {},
   "source": [
    "After 100 steps, we see that values have started to slightly diverge from 0:"
   ]
  },
  {
   "cell_type": "code",
   "execution_count": 33,
   "id": "6667e657-c9fa-4988-bb67-7d0059d792ef",
   "metadata": {},
   "outputs": [
    {
     "data": {
      "image/png": "[encoded data removed]",
      "text/plain": [
       "<PIL.Image.Image image mode=RGB size=325x240>"
      ]
     },
     "metadata": {},
     "output_type": "display_data"
    }
   ],
   "source": [
    "step_artist.jupyter_show(async_result.last_step, cell_size=20)"
   ]
  },
  {
   "cell_type": "markdown",
   "id": "d839fa31-7566-4926-81e0-bef1e61559e5",
   "metadata": {},
   "source": [
    "But the total is still zero!"
   ]
  },
  {
   "cell_type": "code",
   "execution_count": 34,
   "id": "c7621ceb-ba35-4575-9454-f2521c24973d",
   "metadata": {},
   "outputs": [
    {
     "name": "stdout",
     "output_type": "stream",
     "text": [
      "Total after 100 steps: 0\n"
     ]
    }
   ],
   "source": [
    "print(\"Total after 100 steps:\", get_total(async_result.last_step))"
   ]
  },
  {
   "cell_type": "markdown",
   "id": "0a4fd121-fa83-43d2-bf89-b55d6388db03",
   "metadata": {},
   "source": [
    "Let's run for 10000 steps and see what the result is:"
   ]
  },
  {
   "cell_type": "code",
   "execution_count": 40,
   "id": "81064558-903f-491e-9dee-4e0acc7e8628",
   "metadata": {},
   "outputs": [
    {
     "data": {
      "image/png": "[encoded data removed]",
      "text/plain": [
       "<PIL.Image.Image image mode=RGB size=325x240>"
      ]
     },
     "metadata": {},
     "output_type": "display_data"
    },
    {
     "name": "stdout",
     "output_type": "stream",
     "text": [
      "Total after 10000 steps: 0\n"
     ]
    }
   ],
   "source": [
    "async_result = runner.run(async_starting_state, controller, 10000)\n",
    "step_artist.jupyter_show(async_result.last_step, cell_size=20)\n",
    "print(\"Total after 10000 steps:\", get_total(async_result.last_step))"
   ]
  },
  {
   "cell_type": "markdown",
   "id": "e407c0b7-2e8f-4e2d-a230-5df52e7eb475",
   "metadata": {},
   "source": [
    "The sum is still 0 even though the value of many of these cells has moved significantly away from 0.\n",
    "\n",
    "This illustrates how an `AsynchronousRunner` can be used to implement quantity conservation."
   ]
  }
 ],
 "metadata": {
  "kernelspec": {
   "display_name": "Python 3 (ipykernel)",
   "language": "python",
   "name": "python3"
  },
  "language_info": {
   "codemirror_mode": {
    "name": "ipython",
    "version": 3
   },
   "file_extension": ".py",
   "mimetype": "text/x-python",
   "name": "python",
   "nbconvert_exporter": "python",
   "pygments_lexer": "ipython3",
   "version": "3.10.6"
  }
 },
 "nbformat": 4,
 "nbformat_minor": 5
}
