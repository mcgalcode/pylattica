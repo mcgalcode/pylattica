{
 "cells": [
  {
   "cell_type": "code",
   "execution_count": 10,
   "id": "39ec312a-f3ad-4cec-b7ea-b974af5e84f8",
   "metadata": {},
   "outputs": [
    {
     "name": "stdout",
     "output_type": "stream",
     "text": [
      "The autoreload extension is already loaded. To reload it, use:\n",
      "  %reload_ext autoreload\n"
     ]
    }
   ],
   "source": [
    "%load_ext autoreload\n",
    "%autoreload 2"
   ]
  },
  {
   "cell_type": "code",
   "execution_count": 11,
   "id": "cb35ea59-fba4-4085-8799-3b2479d3ed46",
   "metadata": {},
   "outputs": [],
   "source": [
    "from pylattica.core import PeriodicStructure, Lattice"
   ]
  },
  {
   "cell_type": "markdown",
   "id": "83427329-0d0e-41ea-90f6-08ad4a14a495",
   "metadata": {},
   "source": [
    "# Periodic Structures\n",
    "\n",
    "Although assigning geometric locations to the sites in your simulation is not strictly necessary, lattice simulations are defined in part by the geometry of the sites (the namesake lattice). In `pylattica`, these locations are given instances of the `PeriodicStructure` class. Though the name suggests that these structures are periodic, this is not a requirement. The periodicity of the structure is given by the periodicity of the `Lattice` it is built on (see the `Constructing Lattices` guide for more details).\n",
    "\n",
    "In this guide, we will illustrate the behavior of `PeriodicStructure`s by building two and three dimensional square grid structures."
   ]
  },
  {
   "cell_type": "markdown",
   "id": "bbd1b246-a27e-4dbb-abac-618f1c261af3",
   "metadata": {},
   "source": [
    "## Defining a Structure using a Lattice and a Motif\n",
    "\n",
    "A `PeriodicStructure` is defined by a `Lattice` object, and a motif. The `Lattice` defines the shape, dimensionality, and periodicity of the bounding box of the simulation (see `Constructing Lattices` for details), and the motif defines the position of simulation sites within that bounding box. In the parlance of materials science and chemistry, the `Lattice` gives a unit cell, and the motif defines the atomic basis.\n",
    "\n",
    "We will use a two dimensional square grid lattice for this demonstration:"
   ]
  },
  {
   "cell_type": "code",
   "execution_count": 12,
   "id": "d39a4494-800e-456e-b03c-edfcf0b3705a",
   "metadata": {},
   "outputs": [],
   "source": [
    "lattice_vecs = [\n",
    "    [1, 0],\n",
    "    [0, 1]\n",
    "]\n",
    "\n",
    "lattice = Lattice(lattice_vecs)"
   ]
  },
  {
   "cell_type": "markdown",
   "id": "d77dec7a-ac5e-4dc1-bdd8-4b1c5562d960",
   "metadata": {},
   "source": [
    "This lattice defines a unit cell for a two-dimensional square grid. We will need to define a motif in order to put sites in the structure. The motif specifies the location of sites in each unit cell. The simplest type of motif is given as a list of positions."
   ]
  },
  {
   "cell_type": "code",
   "execution_count": 15,
   "id": "63844528-b9a7-49ae-b5ba-99108b6d7fe7",
   "metadata": {},
   "outputs": [],
   "source": [
    "motif = [\n",
    "    [0.5, 0.75],\n",
    "    [0.5, 0.25]\n",
    "]"
   ]
  },
  {
   "cell_type": "markdown",
   "id": "39769178-53c9-4e52-9408-4536d4773cf7",
   "metadata": {},
   "source": [
    "This motif is a list of coordinate pairs. Each item in the list specifies the position of a site in the unit cell. Let's build a structure from this motif."
   ]
  },
  {
   "cell_type": "code",
   "execution_count": 18,
   "id": "94e99a41-eac0-46dc-b44e-b85356fba1c8",
   "metadata": {},
   "outputs": [],
   "source": [
    "structure = PeriodicStructure.build_from(\n",
    "    lattice,\n",
    "    num_cells=((3,3)),\n",
    "    site_motif=motif\n",
    ")"
   ]
  },
  {
   "cell_type": "markdown",
   "id": "05f87a64-858a-4b00-9504-a1f2541481c7",
   "metadata": {},
   "source": [
    "This code creates a structure from the lattice and motif we defined by _tiling_ the unit cell three times along each of the lattice vectors. As a result, we expect our structure to be a 3 by 3 cell square grid. We can see this by investigating the way the structure transforms coordinates, and by retrieving sites from the structure.\n",
    "\n",
    "The `num_cells` parameter specifies the _extent_ of the structure along the directions of the lattice vectors. In this case, (3,3) indicates tiling the original lattice by three units in each direction.\n",
    "\n",
    "A new lattice has been created to support this structure. It's larger than the original one we used by a factor of 3 in each dimension."
   ]
  },
  {
   "cell_type": "code",
   "execution_count": 19,
   "id": "b8fa9388-b456-4af6-94b5-eea8f55748b5",
   "metadata": {},
   "outputs": [
    {
     "data": {
      "text/plain": [
       "array([[3, 0],\n",
       "       [0, 3]])"
      ]
     },
     "execution_count": 19,
     "metadata": {},
     "output_type": "execute_result"
    }
   ],
   "source": [
    "structure.lattice.vecs"
   ]
  },
  {
   "cell_type": "markdown",
   "id": "fd90c64a-00ae-45f0-a240-1d91753b6c8f",
   "metadata": {},
   "source": [
    "Note that because of the larger extent of this lattice, coordinates that would have fallen outside the original lattice now fall inside of this one:"
   ]
  },
  {
   "cell_type": "code",
   "execution_count": 22,
   "id": "4dd5a1c0-04f4-4560-8796-83edddd0a6f4",
   "metadata": {},
   "outputs": [
    {
     "name": "stdout",
     "output_type": "stream",
     "text": [
      "Original periodized (1.5, 1.5):  [0.5 0.5]\n",
      "New periodized (1.5, 1.5):  [1.5 1.5]\n"
     ]
    }
   ],
   "source": [
    "coords = (1.5, 1.5)\n",
    "print(\"Original periodized (1.5, 1.5): \", lattice.get_periodized_cartesian_coords(coords))\n",
    "print(\"New periodized (1.5, 1.5): \", structure.lattice.get_periodized_cartesian_coords(coords))"
   ]
  },
  {
   "cell_type": "markdown",
   "id": "206e7cea-1840-4dc8-8161-30ba61142f98",
   "metadata": {},
   "source": [
    "Now let's look at the structure itself. Our motif specified that there are two sites in each unit cell, so we expect 18 sites in the structure we generated (2 sites/cell * 9 cells = 18 sites)."
   ]
  },
  {
   "cell_type": "code",
   "execution_count": 24,
   "id": "33381881-3db2-4798-8ff3-fa1e146f46cc",
   "metadata": {},
   "outputs": [
    {
     "name": "stdout",
     "output_type": "stream",
     "text": [
      "Number of sites in structure:  18\n"
     ]
    }
   ],
   "source": [
    "print(\"Number of sites in structure: \", len(structure.sites()))"
   ]
  },
  {
   "cell_type": "markdown",
   "id": "41c89d26-3b66-45f8-9e8c-7e56b8298a3c",
   "metadata": {},
   "source": [
    "Each site in the structure has three attributes:\n",
    "\n",
    "- a location\n",
    "- an ID\n",
    "- a class\n",
    "\n",
    "You can refer to specific sites in the structure by either their location or their ID. The IDs are positive integers. Let's look at an example site. We know from our motif that there should be a site at [0.5, 0.75] (we can also expect sites at [1.5, 0.75], [1.5,1.75], etc)."
   ]
  },
  {
   "cell_type": "code",
   "execution_count": 27,
   "id": "14be55c4-0c35-4094-b85c-f519ad434747",
   "metadata": {},
   "outputs": [
    {
     "name": "stdout",
     "output_type": "stream",
     "text": [
      "{'_site_class': 'A', '_location': (0.5, 0.75), '_site_id': 0}\n"
     ]
    }
   ],
   "source": [
    "site_location = (0.5, 0.75)\n",
    "site = structure.site_at(site_location)\n",
    "print(site)"
   ]
  },
  {
   "cell_type": "markdown",
   "id": "c9a9ffc7-f5b5-4d1b-b300-036edab3ae57",
   "metadata": {},
   "source": [
    "You can see the location of this site, and it's ID (0) in this dictionary. We'll discuss the `_site_class` attribute in a moment.\n",
    "\n",
    "Note that because this structure is periodic in all three dimensions, we can retrieve that same site by refering to a periodic image of it:"
   ]
  },
  {
   "cell_type": "code",
   "execution_count": 28,
   "id": "b097c19b-dfb4-4490-97ae-5fd23fa88e30",
   "metadata": {},
   "outputs": [
    {
     "name": "stdout",
     "output_type": "stream",
     "text": [
      "{'_site_class': 'A', '_location': (0.5, 0.75), '_site_id': 0}\n"
     ]
    }
   ],
   "source": [
    "periodic_img_loc = (3.5, 3.75)\n",
    "same_site = structure.site_at(periodic_img_loc)\n",
    "print(same_site)"
   ]
  },
  {
   "cell_type": "markdown",
   "id": "6a16fad5-1501-445e-972f-c7ae1376cb09",
   "metadata": {},
   "source": [
    "As you can see, the site returned at those coordinates has the same ID (and is in fact the same site) as the one returned before.\n",
    "\n",
    "We can also retrieve sites by their ID:"
   ]
  },
  {
   "cell_type": "code",
   "execution_count": 29,
   "id": "c1fec9e0-bf90-4d57-aaf4-d865901cc089",
   "metadata": {},
   "outputs": [
    {
     "name": "stdout",
     "output_type": "stream",
     "text": [
      "{'_site_class': 'A', '_location': (0.5, 0.75), '_site_id': 0}\n"
     ]
    }
   ],
   "source": [
    "site_by_id = structure.get_site(0)\n",
    "print(site_by_id)"
   ]
  },
  {
   "cell_type": "markdown",
   "id": "0ceb5648-4ab5-4d45-bea0-8ec86c18fb2b",
   "metadata": {},
   "source": [
    "#### Site Classes\n",
    "\n",
    "As you saw above, each site also has a `_site_class` attribute assigned to it. This attribute is used to distinguish _types_ of sites that might exist in your structure. For instance, in crystallography, we frequently refer to sites by their coordination environment (e.g. octahedral or tetrahedral). Further, in surface catalysis, sites are distinguished by well known names: bridge, hollow, on-top. If this type of distinction is important to your simulation, it can be expressed using this attribute.\n",
    "\n",
    "If you specify a motif using a list of positions, like we did before, every site will have the same `_site_class` value, and will be of little use.\n",
    "\n",
    "If you want to distinguish between sites in your structure by class, we can use a more complex form of motif to achieve this, as shown below."
   ]
  },
  {
   "cell_type": "code",
   "execution_count": 32,
   "id": "051aaf7e-5b74-4c7d-b032-c3a5cb535617",
   "metadata": {},
   "outputs": [],
   "source": [
    "class_motif = {\n",
    "    \"A\": [\n",
    "        (0.5, 0.25)\n",
    "    ],\n",
    "    \"B\": [\n",
    "        (0.5, 0.75)\n",
    "    ]\n",
    "}"
   ]
  },
  {
   "cell_type": "markdown",
   "id": "830a663a-4308-4d7b-9a8c-b998b917babd",
   "metadata": {},
   "source": [
    "In this new motif, the keys of the dictionary are the site classes, and the values are the lists of positions where sites with each class belong. Let's make a new structure using the same lattice as before, but this motif."
   ]
  },
  {
   "cell_type": "code",
   "execution_count": 33,
   "id": "9cb6b12e-e347-4a05-aa5b-87aa25c1d8f0",
   "metadata": {},
   "outputs": [],
   "source": [
    "multi_class_struct = PeriodicStructure.build_from(\n",
    "    lattice,\n",
    "    num_cells=(3,3),\n",
    "    site_motif=class_motif\n",
    ")"
   ]
  },
  {
   "cell_type": "markdown",
   "id": "22432f54-129e-4468-ba17-294404cabf18",
   "metadata": {},
   "source": [
    "This structure has sites in all the same locations as the one we built before, but now half of them have class A and the other have class B."
   ]
  },
  {
   "cell_type": "code",
   "execution_count": 39,
   "id": "1a02c4cf-b9c3-44bc-8554-b8a53e92dd27",
   "metadata": {},
   "outputs": [
    {
     "name": "stdout",
     "output_type": "stream",
     "text": [
      "Total number of sites:  18\n",
      "Number of A sites:  9\n",
      "Number of B sites:  9\n"
     ]
    }
   ],
   "source": [
    "print(\"Total number of sites: \", len(multi_class_struct.site_ids))\n",
    "print(\"Number of A sites: \", len(multi_class_struct.sites(site_class=\"A\")))\n",
    "print(\"Number of B sites: \", len(multi_class_struct.sites(site_class=\"B\")))"
   ]
  },
  {
   "cell_type": "markdown",
   "id": "42817fa6-fb61-4772-adb1-e67ed0d2f84c",
   "metadata": {},
   "source": [
    "We can also see that sites with class A and B are in the locations we would expect."
   ]
  },
  {
   "cell_type": "code",
   "execution_count": 44,
   "id": "b5b28c2e-338d-49a7-afb4-5b98882e955d",
   "metadata": {},
   "outputs": [
    {
     "name": "stdout",
     "output_type": "stream",
     "text": [
      "We expect site A here:  {'_site_class': 'A', '_location': (0.5, 0.25), '_site_id': 0}\n",
      "And here:  {'_site_class': 'A', '_location': (1.5, 0.25), '_site_id': 6}\n",
      "And we expect site B here:  {'_site_class': 'B', '_location': (0.5, 0.75), '_site_id': 1}\n",
      "And here:  {'_site_class': 'B', '_location': (0.5, 1.75), '_site_id': 3}\n"
     ]
    }
   ],
   "source": [
    "print(\"We expect site A here: \", multi_class_struct.site_at((0.5, 0.25)))\n",
    "print(\"And here: \", multi_class_struct.site_at((1.5, 0.25)))\n",
    "print(\"And we expect site B here: \", multi_class_struct.site_at((0.5, 0.75)))\n",
    "print(\"And here: \", multi_class_struct.site_at((0.5, 1.75)))"
   ]
  }
 ],
 "metadata": {
  "kernelspec": {
   "display_name": "Python 3 (ipykernel)",
   "language": "python",
   "name": "python3"
  },
  "language_info": {
   "codemirror_mode": {
    "name": "ipython",
    "version": 3
   },
   "file_extension": ".py",
   "mimetype": "text/x-python",
   "name": "python",
   "nbconvert_exporter": "python",
   "pygments_lexer": "ipython3",
   "version": "3.10.6"
  }
 },
 "nbformat": 4,
 "nbformat_minor": 5
}
