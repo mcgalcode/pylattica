{
 "cells": [
  {
   "cell_type": "code",
   "execution_count": 1,
   "id": "1552cb7a-cedd-49f5-9108-fb0ff55c698c",
   "metadata": {},
   "outputs": [],
   "source": [
    "%load_ext autoreload\n",
    "%autoreload 2"
   ]
  },
  {
   "cell_type": "code",
   "execution_count": 8,
   "id": "e03964b7-5bfb-468f-ae3e-40818b1add85",
   "metadata": {},
   "outputs": [],
   "source": [
    "from pylattica.discrete import PhaseSet\n",
    "from pylattica.structures.square_grid import DiscreteGridSetup\n",
    "from pylattica.visualization import SquareGridArtist2D, DiscreteCellArtist"
   ]
  },
  {
   "cell_type": "markdown",
   "id": "11975360-4fbb-4bb0-ae31-23b3225b541f",
   "metadata": {
    "tags": []
   },
   "source": [
    "# Square Grid Simulations"
   ]
  },
  {
   "cell_type": "markdown",
   "id": "5bc8387f-3cd0-4d43-9e58-93decb9e211c",
   "metadata": {},
   "source": [
    "Many of the most common Cellular Automaton simulations take place on a grid of square cells. `pylattica` has a number of classes that support this use case. In this demonstration, we will consider a simple simulation in which cells can take on one of the following states, each labelled by a letter:"
   ]
  },
  {
   "cell_type": "code",
   "execution_count": 4,
   "id": "ecdb28f2-d08d-4765-9cd4-f4bf73b1ead0",
   "metadata": {},
   "outputs": [],
   "source": [
    "phases = PhaseSet([\"A\", \"B\", \"C\", \"D\", \"E\"])"
   ]
  },
  {
   "cell_type": "markdown",
   "id": "952d0853-c7bf-4410-8053-c7118b69ba7b",
   "metadata": {},
   "source": [
    "To set up a simulation that involves discrete cell state values (i.e. \"A\", \"B\", \"C\", \"D\", or \"E\" in our case), and takes place on a square grid, we use the `DiscreteGridSetup` class. This class provides support for initializing a number of common scenarios that you might want to use as simulation starting points. To create the setup object, just provide the set of all possible phases that can occur during your simulation."
   ]
  },
  {
   "cell_type": "code",
   "execution_count": 10,
   "id": "db0929ec-a37e-48b7-9859-cb8203aa795f",
   "metadata": {},
   "outputs": [],
   "source": [
    "setup = DiscreteGridSetup(phases)"
   ]
  },
  {
   "cell_type": "markdown",
   "id": "4f64fb64-a9ad-4725-ba22-cc1b5594716e",
   "metadata": {},
   "source": [
    "### Random Noise"
   ]
  },
  {
   "cell_type": "markdown",
   "id": "c1de38cf-fabf-4402-84ef-316d63295ea9",
   "metadata": {},
   "source": [
    "This setup mode just provides a totally random distribution of the phases you specify."
   ]
  },
  {
   "cell_type": "code",
   "execution_count": 29,
   "id": "60fc6221-a155-4cd7-940b-eaf17e3e8250",
   "metadata": {},
   "outputs": [
    {
     "data": {
      "image/png": "[encoded data removed]",
      "text/plain": [
       "<PIL.Image.Image image mode=RGB size=335x300>"
      ]
     },
     "metadata": {},
     "output_type": "display_data"
    }
   ],
   "source": [
    "simulation_side_length = 40\n",
    "phases_to_include = [\"B\", \"C\", \"D\"]\n",
    "\n",
    "simulation = setup.setup_noise(60, phases_to_include)\n",
    "\n",
    "cell_artist = DiscreteCellArtist.from_discrete_state(simulation.state)\n",
    "step_artist = SquareGridArtist2D(simulation.structure, cell_artist=cell_artist)\n",
    "step_artist.jupyter_show(simulation.state, cell_size=5)"
   ]
  },
  {
   "cell_type": "markdown",
   "id": "095a2109-9e9d-4eb8-904b-bdcbd4bca8c8",
   "metadata": {},
   "source": [
    "#### Interface\n",
    "\n",
    "This method sets up an interface between two phases"
   ]
  },
  {
   "cell_type": "code",
   "execution_count": 12,
   "id": "d7a3fdf0-8ab1-49dc-9cb7-f92864f9991f",
   "metadata": {},
   "outputs": [
    {
     "data": {
      "image/png": "[encoded data removed]",
      "text/plain": [
       "<PIL.Image.Image image mode=RGB size=335x300>"
      ]
     },
     "metadata": {},
     "output_type": "display_data"
    }
   ],
   "source": [
    "simulation_side_length = 60\n",
    "left_phase = \"A\"\n",
    "right_phase = \"B\"\n",
    "\n",
    "simulation = setup.setup_interface(simulation_side_length, left_phase, right_phase)\n",
    "\n",
    "cell_artist = DiscreteCellArtist.from_discrete_state(simulation.state)\n",
    "step_artist = SquareGridArtist2D(simulation.structure, cell_artist=cell_artist)\n",
    "step_artist.jupyter_show(simulation.state, cell_size=5)"
   ]
  },
  {
   "cell_type": "markdown",
   "id": "c929294a-7c04-4217-a20b-83627f4abc07",
   "metadata": {},
   "source": [
    "#### Random sites\n",
    "\n",
    "Chooses cells separated by a buffer and assigns phases with the desired ratio to them."
   ]
  },
  {
   "cell_type": "code",
   "execution_count": 13,
   "id": "eb392c53-b6d3-4af7-ad4a-7acd53bb960c",
   "metadata": {},
   "outputs": [
    {
     "name": "stderr",
     "output_type": "stream",
     "text": [
      "100%|███████████████████████████████████| 3600/3600 [00:00<00:00, 5413.62it/s]\n"
     ]
    },
    {
     "data": {
      "image/png": "[encoded data removed]",
      "text/plain": [
       "<PIL.Image.Image image mode=RGB size=335x300>"
      ]
     },
     "metadata": {},
     "output_type": "display_data"
    }
   ],
   "source": [
    "simulation_side_length = 60\n",
    "total_num_sites = 100\n",
    "background_phase = \"A\"\n",
    "site_phases = [\"B\", \"C\"]\n",
    "site_ratios = [1, 2] # There should be 2 C sites for every 1 B site\n",
    "buffer = 2 # Each site should be at least 2 cells away from any other\n",
    "\n",
    "simulation = setup.setup_random_sites(\n",
    "    simulation_side_length,\n",
    "    background_spec=background_phase,\n",
    "    num_sites_desired=total_num_sites,\n",
    "    nuc_species=site_phases,\n",
    "    nuc_ratios=site_ratios,\n",
    "    buffer=buffer\n",
    ")\n",
    "\n",
    "cell_artist = DiscreteCellArtist.from_discrete_state(simulation.state)\n",
    "step_artist = SquareGridArtist2D(simulation.structure, cell_artist=cell_artist)\n",
    "step_artist.jupyter_show(simulation.state, cell_size=5)"
   ]
  },
  {
   "cell_type": "markdown",
   "id": "79f5e3ce-4ba8-4ab6-919a-4716945ffcfd",
   "metadata": {},
   "source": [
    "#### Single Central Particle\n",
    "\n",
    "Assigns the central region of the specified radius to one phase, and everything else to another."
   ]
  },
  {
   "cell_type": "code",
   "execution_count": 14,
   "id": "f4eb3f8e-399c-422d-bcc3-4484e303b500",
   "metadata": {},
   "outputs": [
    {
     "data": {
      "image/png": "[encoded data removed]",
      "text/plain": [
       "<PIL.Image.Image image mode=RGB size=335x300>"
      ]
     },
     "metadata": {},
     "output_type": "display_data"
    }
   ],
   "source": [
    "simulation_side_length = 60\n",
    "particle_radius = 10\n",
    "background_phase = \"A\"\n",
    "particle_phase = \"B\"\n",
    "\n",
    "simulation = setup.setup_particle(\n",
    "    simulation_side_length,\n",
    "    radius = particle_radius,\n",
    "    bulk_phase = background_phase,\n",
    "    particle_phase = particle_phase\n",
    ")\n",
    "\n",
    "cell_artist = DiscreteCellArtist.from_discrete_state(simulation.state)\n",
    "step_artist = SquareGridArtist2D(simulation.structure, cell_artist=cell_artist)\n",
    "step_artist.jupyter_show(simulation.state, cell_size=5)"
   ]
  },
  {
   "cell_type": "markdown",
   "id": "345ee7a4-2ea4-4d87-a199-11d030625afc",
   "metadata": {},
   "source": [
    "### Organically grown grains\n",
    "\n",
    "You can also setup organically grown grains using the included `GrowthModel`. In this model, we establish random sites, and then grow particles outward from them in the shape of the specified neighborhood. Here's how it looks with a few different neighborhoods:"
   ]
  },
  {
   "cell_type": "markdown",
   "id": "40c4d5ed-7266-4782-8863-364456816944",
   "metadata": {},
   "source": [
    "#### Moore"
   ]
  },
  {
   "cell_type": "code",
   "execution_count": 16,
   "id": "fb6c5425-4250-4642-b3c9-a1c298196f47",
   "metadata": {},
   "outputs": [
    {
     "name": "stderr",
     "output_type": "stream",
     "text": [
      "100%|███████████████████████████████████| 3600/3600 [00:00<00:00, 5371.84it/s]\n",
      "100%|██████████████████████████████████| 3600/3600 [00:00<00:00, 14857.60it/s]\n",
      "100%|████████████████████████████████████████| 60/60 [00:00<00:00, 288.28it/s]\n"
     ]
    },
    {
     "data": {
      "image/png": "[encoded data removed]",
      "text/plain": [
       "<PIL.Image.Image image mode=RGB size=335x300>"
      ]
     },
     "metadata": {},
     "output_type": "display_data"
    }
   ],
   "source": [
    "from pylattica.structures.square_grid.growth_setup import GrowthSetup\n",
    "from pylattica.structures.square_grid.neighborhoods import MooreNbHoodBuilder\n",
    "\n",
    "simulation_side_length = 60\n",
    "total_num_sites = 20\n",
    "background_phase = \"A\"\n",
    "site_phases = [\"B\", \"C\", \"D\", \"E\"]\n",
    "buffer = 2 # Each site should be at least 2 cells away from any other\n",
    "\n",
    "growth_setup = GrowthSetup(phases)\n",
    "simulation = growth_setup.grow(\n",
    "    simulation_side_length,\n",
    "    background_spec=background_phase,\n",
    "    num_sites_desired=total_num_sites,\n",
    "    nuc_species=site_phases,\n",
    "    buffer=buffer,\n",
    "    nb_builder=MooreNbHoodBuilder(1)\n",
    ")\n",
    "\n",
    "cell_artist = DiscreteCellArtist.from_discrete_state(simulation.state)\n",
    "step_artist = SquareGridArtist2D(simulation.structure, cell_artist=cell_artist)\n",
    "step_artist.jupyter_show(simulation.state, cell_size=5)"
   ]
  },
  {
   "cell_type": "markdown",
   "id": "ae5c9460-8e89-4140-a011-a9bac6a1f4b2",
   "metadata": {},
   "source": [
    "#### Von Neumann"
   ]
  },
  {
   "cell_type": "code",
   "execution_count": 18,
   "id": "187887cf-5e4a-4923-a351-1a1ff31bc8ca",
   "metadata": {},
   "outputs": [
    {
     "name": "stderr",
     "output_type": "stream",
     "text": [
      "100%|███████████████████████████████████| 3600/3600 [00:00<00:00, 4911.42it/s]\n",
      "100%|██████████████████████████████████| 3600/3600 [00:00<00:00, 26419.10it/s]\n",
      "100%|████████████████████████████████████████| 60/60 [00:00<00:00, 280.44it/s]\n"
     ]
    },
    {
     "data": {
      "image/png": "[encoded data removed]",
      "text/plain": [
       "<PIL.Image.Image image mode=RGB size=335x300>"
      ]
     },
     "metadata": {},
     "output_type": "display_data"
    }
   ],
   "source": [
    "from pylattica.structures.square_grid.neighborhoods import VonNeumannNbHood2DBuilder\n",
    "\n",
    "simulation = growth_setup.grow(\n",
    "    simulation_side_length,\n",
    "    background_spec=background_phase,\n",
    "    num_sites_desired=total_num_sites,\n",
    "    nuc_species=site_phases,\n",
    "    buffer=buffer,\n",
    "    nb_builder=VonNeumannNbHood2DBuilder()\n",
    ")\n",
    "\n",
    "cell_artist = DiscreteCellArtist.from_discrete_state(simulation.state)\n",
    "step_artist = SquareGridArtist2D(simulation.structure, cell_artist=cell_artist)\n",
    "step_artist.jupyter_show(simulation.state, cell_size=5)"
   ]
  },
  {
   "cell_type": "markdown",
   "id": "2d95c25e-451c-4935-8adb-a44d9a135aef",
   "metadata": {},
   "source": [
    "#### Circular"
   ]
  },
  {
   "cell_type": "code",
   "execution_count": 20,
   "id": "6c27b11b-3751-4d51-a88b-482d1926c832",
   "metadata": {},
   "outputs": [
    {
     "name": "stderr",
     "output_type": "stream",
     "text": [
      "100%|███████████████████████████████████| 3600/3600 [00:00<00:00, 4786.48it/s]\n",
      "100%|█████████████████████████████████████| 3600/3600 [02:03<00:00, 29.27it/s]\n",
      "100%|████████████████████████████████████████| 60/60 [00:00<00:00, 242.33it/s]\n"
     ]
    },
    {
     "data": {
      "image/png": "[encoded data removed]",
      "text/plain": [
       "<PIL.Image.Image image mode=RGB size=335x300>"
      ]
     },
     "metadata": {},
     "output_type": "display_data"
    }
   ],
   "source": [
    "from pylattica.core.neighborhood_builders import DistanceNeighborhoodBuilder\n",
    "\n",
    "simulation = growth_setup.grow(\n",
    "    simulation_side_length,\n",
    "    background_spec=background_phase,\n",
    "    num_sites_desired=total_num_sites,\n",
    "    nuc_species=site_phases,\n",
    "    buffer=buffer,\n",
    "    nb_builder=DistanceNeighborhoodBuilder(5)\n",
    ")\n",
    "\n",
    "cell_artist = DiscreteCellArtist.from_discrete_state(simulation.state)\n",
    "step_artist = SquareGridArtist2D(simulation.structure, cell_artist=cell_artist)\n",
    "step_artist.jupyter_show(simulation.state, cell_size=5)"
   ]
  },
  {
   "cell_type": "markdown",
   "id": "4c90f3f5-ace2-4e1a-b320-48eb42f32ebd",
   "metadata": {},
   "source": [
    "## Structure and State (or the `Simulation` object)"
   ]
  },
  {
   "cell_type": "markdown",
   "id": "926035a9-e6ea-4379-bfb8-a6e58f44fe7e",
   "metadata": {},
   "source": [
    "The output of the setup methods defined above is an instance of `Simulation`. This object has two attributes: `.structure` and `.state`. The structure refers to the lattice of sites that underpins the simulation. In the case of these states we just set up, that lattice is a 2D square grid. In general, it can be any type of lattice. This lattice is called the \"structure\" of the simulation state. It is subject to periodic boundary conditions, meaning that a cell on the edge of the structure is a neighbor to the cell on the opposite edge of the grid.\n",
    "\n",
    "You can access the structure via the `structure` attribute, and view it's sites. We'll use a small interface simulation for this example."
   ]
  },
  {
   "cell_type": "code",
   "execution_count": 21,
   "id": "62453096-400b-4c0b-9b3d-931ab1d74bc7",
   "metadata": {},
   "outputs": [],
   "source": [
    "simulation_side_length = 4\n",
    "left_phase = \"A\"\n",
    "right_phase = \"B\"\n",
    "\n",
    "simulation = setup.setup_interface(simulation_side_length, left_phase, right_phase)"
   ]
  },
  {
   "cell_type": "markdown",
   "id": "9629985c-4a5a-497a-9dee-68a182b39857",
   "metadata": {},
   "source": [
    "Here's how you see all the sites in the structure:"
   ]
  },
  {
   "cell_type": "code",
   "execution_count": 22,
   "id": "a0edc804-c86f-4494-9b5c-63c59ff54a5c",
   "metadata": {
    "tags": []
   },
   "outputs": [
    {
     "data": {
      "text/plain": [
       "[{'_site_class': '_A', '_location': array([0., 0.]), '_site_id': 0},\n",
       " {'_site_class': '_A', '_location': array([1., 0.]), '_site_id': 1},\n",
       " {'_site_class': '_A', '_location': array([2., 0.]), '_site_id': 2},\n",
       " {'_site_class': '_A', '_location': array([3., 0.]), '_site_id': 3},\n",
       " {'_site_class': '_A', '_location': array([0., 1.]), '_site_id': 4},\n",
       " {'_site_class': '_A', '_location': array([1., 1.]), '_site_id': 5},\n",
       " {'_site_class': '_A', '_location': array([2., 1.]), '_site_id': 6},\n",
       " {'_site_class': '_A', '_location': array([3., 1.]), '_site_id': 7},\n",
       " {'_site_class': '_A', '_location': array([0., 2.]), '_site_id': 8},\n",
       " {'_site_class': '_A', '_location': array([1., 2.]), '_site_id': 9},\n",
       " {'_site_class': '_A', '_location': array([2., 2.]), '_site_id': 10},\n",
       " {'_site_class': '_A', '_location': array([3., 2.]), '_site_id': 11},\n",
       " {'_site_class': '_A', '_location': array([0., 3.]), '_site_id': 12},\n",
       " {'_site_class': '_A', '_location': array([1., 3.]), '_site_id': 13},\n",
       " {'_site_class': '_A', '_location': array([2., 3.]), '_site_id': 14},\n",
       " {'_site_class': '_A', '_location': array([3., 3.]), '_site_id': 15}]"
      ]
     },
     "execution_count": 22,
     "metadata": {},
     "output_type": "execute_result"
    }
   ],
   "source": [
    "simulation.structure.sites()"
   ]
  },
  {
   "cell_type": "markdown",
   "id": "7dab0d52-69f7-46fd-b601-ccee47da8c7d",
   "metadata": {},
   "source": [
    "See how the locations are represented by two coordinates? They lie on a square grid."
   ]
  },
  {
   "cell_type": "markdown",
   "id": "e75ab920-228b-42a5-a5ca-bf8543f3d48b",
   "metadata": {},
   "source": [
    "Every site in this structure has a `_site_class` of \"_A\". This is not significant. In other, more complex simulations, this attribute can be used to distinguish types of sites that exist in the structure. For instance, in materials science, we refer to lattice sites by their coordination structure (e.g. tetrahedral, octahedral)."
   ]
  },
  {
   "cell_type": "markdown",
   "id": "2eec7649-8f38-43d7-8c54-ff4af6f4d6f4",
   "metadata": {},
   "source": [
    "#### Simulation State Dictionary\n",
    "\n",
    "You may have noticed that the sites in our structure also have IDs. These IDs are referred to by the `SimulationState`. This object is essentially a dictionary that maps site IDs to the state of that site. A site state can be any arbitrary python dictionary, but in our case each site is just assigned an occupancy value. Let's make some sense of this.\n",
    "\n",
    "The first site we have is (0,0). It's ID is 0 as well."
   ]
  },
  {
   "cell_type": "code",
   "execution_count": 23,
   "id": "e07fb834-ea76-4423-9f60-afa305728160",
   "metadata": {},
   "outputs": [
    {
     "name": "stdout",
     "output_type": "stream",
     "text": [
      "Site 0 is at [0. 0.]\n"
     ]
    }
   ],
   "source": [
    "site = simulation.structure.sites()[0]\n",
    "print(f'Site {site[\"_site_id\"]} is at {site[\"_location\"]}')"
   ]
  },
  {
   "cell_type": "markdown",
   "id": "5b7faec5-6352-4845-b554-492cf76937ea",
   "metadata": {},
   "source": [
    "Now let's see what it's state is:"
   ]
  },
  {
   "cell_type": "code",
   "execution_count": 24,
   "id": "178bbdba-eecf-4330-9280-b189c32c363e",
   "metadata": {},
   "outputs": [
    {
     "data": {
      "text/plain": [
       "{'_site_id': 0, 'DISCRETE_OCCUPANCY': 'A'}"
      ]
     },
     "execution_count": 24,
     "metadata": {},
     "output_type": "execute_result"
    }
   ],
   "source": [
    "simulation.state.get_site_state(0)"
   ]
  },
  {
   "cell_type": "markdown",
   "id": "b8716e1a-8757-42f8-bd48-c2700472c1bc",
   "metadata": {},
   "source": [
    "The `DISCRETE_OCCUPANCY` key indicates the \"phase\" that occupies that cell. Let's see if that lines up with our visualization. Remember, this site is at (0,0), or the bottom left of the simulation state."
   ]
  },
  {
   "cell_type": "code",
   "execution_count": 28,
   "id": "329b1087-5daf-41ff-ac1e-d86c96afcc39",
   "metadata": {},
   "outputs": [
    {
     "data": {
      "image/png": "[encoded data removed]",
      "text/plain": [
       "<PIL.Image.Image image mode=RGB size=305x120>"
      ]
     },
     "metadata": {},
     "output_type": "display_data"
    }
   ],
   "source": [
    "cell_artist = DiscreteCellArtist.from_discrete_state(simulation.state)\n",
    "step_artist = SquareGridArtist2D(simulation.structure, cell_artist=cell_artist)\n",
    "step_artist.jupyter_show(simulation.state, cell_size=30)"
   ]
  },
  {
   "cell_type": "markdown",
   "id": "a5a8c56a-f6b6-4973-b630-31e7a183b56e",
   "metadata": {},
   "source": [
    "Sure enough, that bottom left cell is an 'A' cell!"
   ]
  },
  {
   "cell_type": "markdown",
   "id": "a1f61c74-d3f2-4c2d-9b57-b0f410e753ba",
   "metadata": {},
   "source": [
    "Every site in this structure has a `_site_class` of \"_A\". This is not significant. In other, more complex simulations, this attribute can be used to distinguish types of sites that exist in the structure. For instance, in materials science, we refer to lattice sites by their coordination structure (e.g. tetrahedral, octahedral)."
   ]
  }
 ],
 "metadata": {
  "kernelspec": {
   "display_name": "Python 3 (ipykernel)",
   "language": "python",
   "name": "python3"
  },
  "language_info": {
   "codemirror_mode": {
    "name": "ipython",
    "version": 3
   },
   "file_extension": ".py",
   "mimetype": "text/x-python",
   "name": "python",
   "nbconvert_exporter": "python",
   "pygments_lexer": "ipython3",
   "version": "3.10.6"
  }
 },
 "nbformat": 4,
 "nbformat_minor": 5
}
