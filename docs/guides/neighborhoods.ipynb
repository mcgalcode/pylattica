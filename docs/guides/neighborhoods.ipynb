{
 "cells": [
  {
   "cell_type": "code",
   "execution_count": 1,
   "id": "a615d40d-3bde-490c-ae20-1bae89a44d63",
   "metadata": {},
   "outputs": [],
   "source": [
    "%load_ext autoreload\n",
    "%autoreload 2"
   ]
  },
  {
   "cell_type": "code",
   "execution_count": 2,
   "id": "8d5a77d0-3049-473f-a69b-8864a62d3ecb",
   "metadata": {},
   "outputs": [],
   "source": [
    "from pylattica.core import Lattice, PeriodicStructure\n",
    "from pylattica.core.neighborhood_builders import DistanceNeighborhoodBuilder, AnnularNeighborhoodBuilder, MotifNeighborhoodBuilder"
   ]
  },
  {
   "cell_type": "markdown",
   "id": "1fa56363-7a2d-4bdd-a499-443b57d5876c",
   "metadata": {},
   "source": [
    "# Defining Neighborhoods\n",
    "\n",
    "pylattica provides several methods for defining the neighborhood of each site in the simulation. Neighborhoods are built using a `PeriodicStructure` object, so it is assumed that you have defined your structure beforehand when creating a neighborhood.\n",
    "\n",
    "We will illustrate the use of some common neighborhood types here, using the 5x5 2D square grid as an example."
   ]
  },
  {
   "cell_type": "code",
   "execution_count": 50,
   "id": "a68a88d6-7c0e-4c5a-87ed-de43faf6946a",
   "metadata": {},
   "outputs": [],
   "source": [
    "lattice = Lattice([\n",
    "    [1, 0],\n",
    "    [0, 1]\n",
    "])\n",
    "\n",
    "motif = [[0.5, 0.5]]\n",
    "structure = PeriodicStructure.build_from(lattice, (5,5), motif)"
   ]
  },
  {
   "cell_type": "markdown",
   "id": "069cfb00-2422-42d2-8707-f0be97c62d8e",
   "metadata": {},
   "source": [
    "### Distance Neighborhoods\n",
    "\n",
    "An extremely common way of defining neighbors is using a distance cutoff. The `DistanceNeighborhoodBuilder` allows you to build a neighborhood that consists of each site within some cutoff radius of the site under consideration.\n",
    "\n",
    "In our case of a square grid, we can illustrate this by building a neighborhood with a distance cutoff of 1.01. This will contain the 4 closest sites, but no others."
   ]
  },
  {
   "cell_type": "code",
   "execution_count": 4,
   "id": "8896ee89-691a-40a9-8cf0-d94dcccfe9d6",
   "metadata": {},
   "outputs": [
    {
     "name": "stderr",
     "output_type": "stream",
     "text": [
      "100%|███████████████████████████████████████| 25/25 [00:00<00:00, 2868.25it/s]\n"
     ]
    }
   ],
   "source": [
    "builder = DistanceNeighborhoodBuilder(1.01)\n",
    "nbhood = builder.get(structure)"
   ]
  },
  {
   "cell_type": "markdown",
   "id": "32fa0cb2-cd4e-424b-ad76-4552c8632404",
   "metadata": {},
   "source": [
    "The `nbhood` variable is an instance of the `Neighborhood` class. It allows you to retrieve the neighbors for a given site in the structure.\n",
    "\n",
    "Let's look at the central site in our structure. This site should have coordinates (2.5, 2.5). It should have 4 neighbors, one in each of the cardinal directions. We retrieve it's neighbors by passing its ID to the `.neighbors_of` method on the `Neighborhood` object. A generator is returned that allows you to iterate through the IDs of the neighboring sites."
   ]
  },
  {
   "cell_type": "code",
   "execution_count": 18,
   "id": "484276ec-5bba-469c-a25d-db411012ed8d",
   "metadata": {},
   "outputs": [
    {
     "name": "stdout",
     "output_type": "stream",
     "text": [
      "16\n",
      "8\n",
      "18\n",
      "22\n",
      "6\n",
      "14\n",
      "10\n",
      "2\n"
     ]
    }
   ],
   "source": [
    "central_site = structure.site_at((2.5, 2.5))\n",
    "central_id = central_site[\"_site_id\"]\n",
    "nbs = nbhood.neighbors_of(central_id)\n",
    "\n",
    "for nb in nbs:\n",
    "    print(nb)"
   ]
  },
  {
   "cell_type": "markdown",
   "id": "13b75868-7063-4a0c-be63-82b305aafa78",
   "metadata": {},
   "source": [
    "We can use the structure object to get the location of these neighbors, and confirm our expectation that they are displaced from the central site by 1 unit in each of the cardinal directions."
   ]
  },
  {
   "cell_type": "code",
   "execution_count": 6,
   "id": "8e481098-17bb-4adf-8b5f-2900d02063d7",
   "metadata": {},
   "outputs": [
    {
     "name": "stdout",
     "output_type": "stream",
     "text": [
      "Location of 17:  (3.5, 2.5)\n",
      "Location of 11:  (2.5, 1.5)\n",
      "Location of 13:  (2.5, 3.5)\n",
      "Location of 7:  (1.5, 2.5)\n"
     ]
    }
   ],
   "source": [
    "for nb in nbs:\n",
    "    print(f\"Location of {nb}: \", structure.site_location(nb))"
   ]
  },
  {
   "cell_type": "markdown",
   "id": "a996fea8-105c-44e2-ba0e-e737331b8e9a",
   "metadata": {},
   "source": [
    "Incidentally, this is the Von Neumann neighborhood:\n",
    "\n",
    "![title](pylattica/guides/img/vnnbhood.png)\n",
    "\n",
    "If we expand the distance cutoff to just over the square root of 2, we can get the Moore Neighborhood:"
   ]
  },
  {
   "cell_type": "code",
   "execution_count": 19,
   "id": "7dc90493-1d73-469d-a278-d74e7065217c",
   "metadata": {},
   "outputs": [
    {
     "name": "stderr",
     "output_type": "stream",
     "text": [
      "100%|███████████████████████████████████████| 25/25 [00:00<00:00, 2249.97it/s]"
     ]
    },
    {
     "name": "stdout",
     "output_type": "stream",
     "text": [
      "Location of 6:  (1.5, 1.5)\n",
      "Location of 11:  (2.5, 1.5)\n",
      "Location of 7:  (1.5, 2.5)\n",
      "Location of 16:  (3.5, 1.5)\n",
      "Location of 13:  (2.5, 3.5)\n",
      "Location of 8:  (1.5, 3.5)\n",
      "Location of 18:  (3.5, 3.5)\n",
      "Location of 17:  (3.5, 2.5)\n"
     ]
    },
    {
     "name": "stderr",
     "output_type": "stream",
     "text": [
      "\n"
     ]
    }
   ],
   "source": [
    "builder = DistanceNeighborhoodBuilder(1.50)\n",
    "nbhood = builder.get(structure)\n",
    "\n",
    "nbs = nbhood.neighbors_of(central_id)\n",
    "\n",
    "for nb in nbs:\n",
    "    print(f\"Location of {nb}: \", structure.site_location(nb))"
   ]
  },
  {
   "cell_type": "markdown",
   "id": "41206ac2-7e15-41bf-b6f2-7b62601bac56",
   "metadata": {},
   "source": [
    "Shown here:\n",
    "\n",
    "![title](../img/moorenbhood.png)"
   ]
  },
  {
   "cell_type": "markdown",
   "id": "65739e8f-b1bf-4355-b2cb-66c2bc61bd1a",
   "metadata": {},
   "source": [
    "#### Iterating through sites and distances\n",
    "\n",
    "`Neighborhood`s also allow you to read the distance between sites as you iterate through the neighbors by including the `include_weights=True` parameter to the `neighbors_of` method:"
   ]
  },
  {
   "cell_type": "code",
   "execution_count": 8,
   "id": "623e227f-4a69-424e-9ebc-903fba91eae5",
   "metadata": {},
   "outputs": [
    {
     "name": "stdout",
     "output_type": "stream",
     "text": [
      "Location of 18:  (3.5, 3.5)  and distance:  1.414\n",
      "Location of 16:  (3.5, 1.5)  and distance:  1.414\n",
      "Location of 11:  (2.5, 1.5)  and distance:  1.0\n",
      "Location of 8:  (1.5, 3.5)  and distance:  1.414\n",
      "Location of 13:  (2.5, 3.5)  and distance:  1.0\n",
      "Location of 6:  (1.5, 1.5)  and distance:  1.414\n",
      "Location of 7:  (1.5, 2.5)  and distance:  1.0\n",
      "Location of 17:  (3.5, 2.5)  and distance:  1.0\n"
     ]
    }
   ],
   "source": [
    "nbs = nbhood.neighbors_of(central_site[\"_site_id\"], include_weights=True)\n",
    "\n",
    "for nb, distance in nbs:\n",
    "    print(f\"Location of {nb}: \", structure.site_location(nb), \" and distance: \", distance)"
   ]
  },
  {
   "cell_type": "markdown",
   "id": "2868d065-2b8b-4088-b3d2-680098ca8ca3",
   "metadata": {},
   "source": [
    "## Building complex neighborhoods\n",
    "\n",
    "Other simulations might call for other types of neighborhoods that are not given by a simple distance cutoff. Consider the following shape:\n",
    "\n",
    "![title](../img/othernbhood.png)\n",
    "\n",
    "This neighborhood requires more information. This shape could be achieved by two of the built-in neighborhood types in pylattica.\n",
    "\n",
    "### Using the Annular Neighborhood\n",
    "\n",
    "The first option is to use the `AnnularNeighborhoodBuilder`. This NB builder is similar to the `DistanceNeighborhoodBuilder` but instead of taking a single distance cutoff, it takes both a minimum and maximum distance."
   ]
  },
  {
   "cell_type": "code",
   "execution_count": 20,
   "id": "64e91317-19e0-44a8-a327-718af2374573",
   "metadata": {},
   "outputs": [
    {
     "name": "stderr",
     "output_type": "stream",
     "text": [
      "100%|███████████████████████████████████████| 25/25 [00:00<00:00, 2423.67it/s]"
     ]
    },
    {
     "name": "stdout",
     "output_type": "stream",
     "text": [
      "This gives 8 neighbors, as expected.\n",
      "\n",
      "Location of 6:  (1.5, 1.5)  and distance:  1.414\n",
      "Location of 2:  (0.5, 2.5)  and distance:  2.0\n",
      "Location of 14:  (2.5, 4.5)  and distance:  2.0\n",
      "Location of 22:  (4.5, 2.5)  and distance:  2.0\n",
      "Location of 16:  (3.5, 1.5)  and distance:  1.414\n",
      "Location of 10:  (2.5, 0.5)  and distance:  2.0\n",
      "Location of 18:  (3.5, 3.5)  and distance:  1.414\n",
      "Location of 8:  (1.5, 3.5)  and distance:  1.414\n"
     ]
    },
    {
     "name": "stderr",
     "output_type": "stream",
     "text": [
      "\n"
     ]
    }
   ],
   "source": [
    "builder = AnnularNeighborhoodBuilder(1.3, 2.01)\n",
    "nbhood = builder.get(structure)\n",
    "\n",
    "nbs = nbhood.neighbors_of(central_id, include_weights=True)\n",
    "\n",
    "print(f\"This gives {len(nbs)} neighbors, as expected.\\n\")\n",
    "\n",
    "for nb, distance in nbs:\n",
    "    print(f\"Location of {nb}: \", structure.site_location(nb), \" and distance: \", distance)"
   ]
  },
  {
   "cell_type": "markdown",
   "id": "b0dd87b7-3211-4084-bc29-6d22e8c4a794",
   "metadata": {},
   "source": [
    "### Using the Motif Neighborhood\n",
    "\n",
    "The most flexible neighborhood builder provided by pylattica is the `MotifNeighborhoodBuilder`. This NB builder uses a list of displacement vectors that specify the _relative positions_ of the neighbors of each site.\n",
    "\n",
    "To specify the desired neighborhood above, we can use the following motif."
   ]
  },
  {
   "cell_type": "code",
   "execution_count": 21,
   "id": "7becb522-e19a-46fc-9d5d-4197b1284984",
   "metadata": {},
   "outputs": [
    {
     "name": "stderr",
     "output_type": "stream",
     "text": [
      "100%|███████████████████████████████████████| 25/25 [00:00<00:00, 9459.41it/s]"
     ]
    },
    {
     "name": "stdout",
     "output_type": "stream",
     "text": [
      "This gives 8 neighbors, as expected.\n",
      "\n",
      "Location of 22:  (4.5, 2.5)  and distance:  2.0\n",
      "Location of 8:  (1.5, 3.5)  and distance:  1.41\n",
      "Location of 18:  (3.5, 3.5)  and distance:  1.41\n",
      "Location of 2:  (0.5, 2.5)  and distance:  2.0\n",
      "Location of 16:  (3.5, 1.5)  and distance:  1.41\n",
      "Location of 6:  (1.5, 1.5)  and distance:  1.41\n",
      "Location of 14:  (2.5, 4.5)  and distance:  2.0\n",
      "Location of 10:  (2.5, 0.5)  and distance:  2.0\n"
     ]
    },
    {
     "name": "stderr",
     "output_type": "stream",
     "text": [
      "\n"
     ]
    }
   ],
   "source": [
    "motif = [\n",
    "    (0, 2),\n",
    "    (1, 1),\n",
    "    (2, 0),\n",
    "    (1, -1),\n",
    "    (0, -2),\n",
    "    (-1, -1),\n",
    "    (-2, 0),\n",
    "    (-1, 1)\n",
    "]\n",
    "\n",
    "builder = MotifNeighborhoodBuilder(motif)\n",
    "nbhood = builder.get(structure)\n",
    "\n",
    "nbs = nbhood.neighbors_of(central_id, include_weights=True)\n",
    "\n",
    "assert len(nbs) == 8\n",
    "print(f\"This gives {len(nbs)} neighbors, as expected.\\n\")\n",
    "\n",
    "for nb, distance in nbs:\n",
    "    print(f\"Location of {nb}: \", structure.site_location(nb), \" and distance: \", distance)"
   ]
  },
  {
   "cell_type": "markdown",
   "id": "a70a5eab-09b0-46ed-a6c6-1350e947fb6d",
   "metadata": {},
   "source": [
    "See how the neighbors are the same as the ones given by the annular neighborhood?\n",
    "\n",
    "### Multi Neighborhoods\n",
    "\n",
    "Though what we have covered so far will enable most use cases, there is another type of helper neighborhood that pylattica provides. In some cases, the neighborhood for a given site should be different depending on some condition. It could also be random. The following sections describe these two cases.\n",
    "\n",
    "#### Stochastic Neighborhoods"
   ]
  },
  {
   "cell_type": "code",
   "execution_count": 24,
   "id": "3449ec3a-9cd3-4ed7-9d1b-f87e0adf4c68",
   "metadata": {},
   "outputs": [],
   "source": [
    "from pylattica.core.neighborhood_builders import StochasticNeighborhoodBuilder"
   ]
  },
  {
   "cell_type": "markdown",
   "id": "be100edc-a2ee-4b1d-8117-9afe9ce660c2",
   "metadata": {},
   "source": [
    "Say we wanted the neighbors of a given site to just be a random selection of the nearest neighbors. The way to do this is to use the `StochasticNeighborhood`. The `StochasticNeighborhood` choose randomly from a list of neighborhoods each time the neighbors are requested.\n",
    "\n",
    "We can define 4 motif neighborhood builders - one for each cardinal directions, and then use the `StochasticNeighborhoodBuilder` to make a neighborhood that selects randomly from among them."
   ]
  },
  {
   "cell_type": "code",
   "execution_count": 25,
   "id": "031c2e0f-ebcd-4016-af4b-0c13f93f8724",
   "metadata": {},
   "outputs": [
    {
     "name": "stderr",
     "output_type": "stream",
     "text": [
      "100%|██████████████████████████████████████| 25/25 [00:00<00:00, 22598.62it/s]\n",
      "100%|██████████████████████████████████████| 25/25 [00:00<00:00, 46561.99it/s]\n",
      "100%|██████████████████████████████████████| 25/25 [00:00<00:00, 42956.82it/s]\n",
      "100%|██████████████████████████████████████| 25/25 [00:00<00:00, 28934.22it/s]\n"
     ]
    }
   ],
   "source": [
    "motif1 = MotifNeighborhoodBuilder([(0,1)])\n",
    "motif2 = MotifNeighborhoodBuilder([(0,-1)])\n",
    "motif3 = MotifNeighborhoodBuilder([(1,0)])\n",
    "motif4 = MotifNeighborhoodBuilder([(-1, 0)])\n",
    "\n",
    "stoch_nbbuilder = StochasticNeighborhoodBuilder([motif1, motif2, motif3, motif4])\n",
    "stoch_nb = stoch_nbbuilder.get(structure)"
   ]
  },
  {
   "cell_type": "markdown",
   "id": "ab624c1f-8d90-47ec-a51a-f4c7824eff07",
   "metadata": {},
   "source": [
    "We can see the effect by asking for the neighbors of the central cell several times in a row:"
   ]
  },
  {
   "cell_type": "code",
   "execution_count": 28,
   "id": "d11c8f8d-0fee-4009-874c-2ce8ec532c7c",
   "metadata": {},
   "outputs": [
    {
     "name": "stdout",
     "output_type": "stream",
     "text": [
      "Neighbors of central cell:  [11]\n",
      "Neighbors of central cell:  [13]\n",
      "Neighbors of central cell:  [7]\n",
      "Neighbors of central cell:  [13]\n",
      "Neighbors of central cell:  [11]\n",
      "Neighbors of central cell:  [17]\n",
      "Neighbors of central cell:  [13]\n",
      "Neighbors of central cell:  [11]\n",
      "Neighbors of central cell:  [7]\n",
      "Neighbors of central cell:  [13]\n"
     ]
    }
   ],
   "source": [
    "for _ in range(10):\n",
    "    print(\"Neighbors of central cell: \", stoch_nb.neighbors_of(central_id))"
   ]
  },
  {
   "cell_type": "markdown",
   "id": "a34db49b-7563-47c0-996f-c276b3bdd669",
   "metadata": {},
   "source": [
    "### Class Based Neighborhoods\n",
    "\n",
    "We can also define neighborhoods where each site has a neighborhood specific to its class. We do this by mapping class names to neighborhood builders and using the `SiteClassNeighborhoodBuilder`"
   ]
  },
  {
   "cell_type": "code",
   "execution_count": 48,
   "id": "f6def34a-0d4e-4719-a968-d72fac363f2d",
   "metadata": {},
   "outputs": [
    {
     "name": "stderr",
     "output_type": "stream",
     "text": [
      "100%|████████████████████████████████████████| 9/9 [00:00<00:00, 35444.82it/s]\n",
      "100%|████████████████████████████████████████| 9/9 [00:00<00:00, 41665.27it/s]\n"
     ]
    }
   ],
   "source": [
    "from pylattica.core.neighborhood_builders import SiteClassNeighborhoodBuilder\n",
    "\n",
    "structure_motif = {\n",
    "    \"A\": [(0.25, 0.25)],\n",
    "    \"B\": [(0.75, 0.75)],\n",
    "}\n",
    "\n",
    "class_struct = PeriodicStructure.build_from(lattice, (3,3), structure_motif)\n",
    "\n",
    "A_nbhood = MotifNeighborhoodBuilder([(0, 1)])\n",
    "B_nbhood = MotifNeighborhoodBuilder([(1, 0)])\n",
    "\n",
    "class_nbbuilder = SiteClassNeighborhoodBuilder({\"A\": A_nbhood, \"B\": B_nbhood})\n",
    "class_nb = class_nbbuilder.get(class_struct)"
   ]
  },
  {
   "cell_type": "markdown",
   "id": "a8306633-1898-4cca-ad6d-73e217393561",
   "metadata": {},
   "source": [
    "Having built this neighborhood, we can inspect the neighbors of an A site and the neighbors of a B site."
   ]
  },
  {
   "cell_type": "code",
   "execution_count": 49,
   "id": "1bc62278-14a4-486b-a080-29742fc763aa",
   "metadata": {},
   "outputs": [
    {
     "name": "stdout",
     "output_type": "stream",
     "text": [
      "A's location: (0.25, 0.25) and A neighbors: [2] and it's location (0.25, 1.25)\n",
      "B's location: (1.75, 1.75) and B neighbors: [15] and it's location (2.75, 1.75)\n"
     ]
    }
   ],
   "source": [
    "a_site_id = class_struct.id_at((0.25, 0.25))\n",
    "b_site_id = class_struct.id_at((1.75, 1.75))\n",
    "\n",
    "a_neighbs = class_nb.neighbors_of(a_site_id)\n",
    "print(\"A's location:\", class_struct.site_location(a_site_id), \"and A neighbors:\", a_neighbs, \"and it's location\", class_struct.site_location(a_neighbs[0]))\n",
    "\n",
    "b_neighbs = class_nb.neighbors_of(b_site_id)\n",
    "print(\"B's location:\", class_struct.site_location(b_site_id), \"and B neighbors:\", b_neighbs, \"and it's location\", class_struct.site_location(b_neighbs[0]))"
   ]
  },
  {
   "cell_type": "markdown",
   "id": "7cbb0d3a-b590-4a55-942e-0fff1f370f87",
   "metadata": {},
   "source": [
    "## Periodic Boundary Conditions and Neighborhoods\n",
    "\n",
    "Neighborhoods adhere to periodic boundary conditions as well. Below, we will illustrate this using a Von Neumann neighborhood."
   ]
  },
  {
   "cell_type": "code",
   "execution_count": 77,
   "id": "2fd8440f-7cfe-494d-8611-85209367b2ac",
   "metadata": {},
   "outputs": [
    {
     "name": "stderr",
     "output_type": "stream",
     "text": [
      "100%|█████████████████████████████████████████| 9/9 [00:00<00:00, 4706.82it/s]\n",
      "100%|█████████████████████████████████████████| 9/9 [00:00<00:00, 4641.43it/s]\n",
      "100%|█████████████████████████████████████████| 9/9 [00:00<00:00, 5596.55it/s]\n"
     ]
    }
   ],
   "source": [
    "lattice_vecs = [\n",
    "    [1, 0],\n",
    "    [0, 1]\n",
    "]\n",
    "\n",
    "motif = [[0.5, 0.5]]\n",
    "\n",
    "von_neumann_nb_builder = DistanceNeighborhoodBuilder(1.01)\n",
    "\n",
    "full_periodic_lattice = Lattice(lattice_vecs, True)\n",
    "full_periodic_struct = PeriodicStructure.build_from(full_periodic_lattice, (3,3), motif)\n",
    "full_periodic_nbhood = von_neumann_nb_builder.get(full_periodic_struct)\n",
    "\n",
    "partial_periodic_lattice = Lattice(lattice_vecs, (False, True))\n",
    "partial_periodic_struct = PeriodicStructure.build_from(partial_periodic_lattice, (3,3), motif)\n",
    "partial_periodic_nbhood = von_neumann_nb_builder.get(partial_periodic_struct)\n",
    "\n",
    "non_periodic_lattice = Lattice(lattice_vecs, False)\n",
    "non_periodic_struct = PeriodicStructure.build_from(non_periodic_lattice, (3,3), motif)\n",
    "non_periodic_nbhood = von_neumann_nb_builder.get(non_periodic_struct)"
   ]
  },
  {
   "cell_type": "markdown",
   "id": "f8fc4e01-cb0d-49ab-95df-91769949d93f",
   "metadata": {},
   "source": [
    "We will illustrate the behavior of this system by looking at corner and edge sites.\n",
    "\n",
    "#### Full Periodicity\n",
    "\n",
    "We expect the neighborhoods of edge and corner sites in the fully periodic system to look like this:\n",
    "\n",
    "![full periodic edge](../img/vn_edge_full_per.png) ![full periodic corner](../img/vn_cor_ful_per.png)\n",
    "\n",
    "To see that, lets get references to the edge site (coordinates [0.5, 1.5]) and the corner site (coordinates [0.5, 2.5]) and look at the number of their neighbors and the coordinates of their neighbors."
   ]
  },
  {
   "cell_type": "code",
   "execution_count": 78,
   "id": "b3386019-8b22-414f-afd6-f9f03f49b25b",
   "metadata": {},
   "outputs": [
    {
     "name": "stdout",
     "output_type": "stream",
     "text": [
      "The edge site (0.5, 1.5) has 4 neighbors in the fully periodic system\n",
      "Their coordinates are: [(2.5, 1.5), (1.5, 1.5), (0.5, 2.5), (0.5, 0.5)]\n",
      "\n",
      "The corner (0.5, 2.5) site has 4 neighbors in the fully periodic system\n",
      "Their coordinates are: [(0.5, 0.5), (1.5, 2.5), (0.5, 1.5), (2.5, 2.5)]\n"
     ]
    }
   ],
   "source": [
    "edge_coords = (0.5, 1.5)\n",
    "corner_coords = (0.5, 2.5)\n",
    "\n",
    "edge_id = full_periodic_struct.id_at(edge_coords)\n",
    "edge_nbs = full_periodic_nbhood.neighbors_of(edge_id)\n",
    "\n",
    "print(f\"The edge site {edge_coords} has\", len(edge_nbs), \"neighbors in the fully periodic system\")\n",
    "print(\"Their coordinates are:\", [full_periodic_struct.site_location(nb_id) for nb_id in edge_nbs])\n",
    "\n",
    "corner_id = full_periodic_struct.id_at(corner_coords)\n",
    "corner_nbs = full_periodic_nbhood.neighbors_of(corner_id)\n",
    "print()\n",
    "print(f\"The corner {corner_coords} site has\", len(corner_nbs), \"neighbors in the fully periodic system\")\n",
    "print(\"Their coordinates are:\", [full_periodic_struct.site_location(nb_id) for nb_id in corner_nbs])"
   ]
  },
  {
   "cell_type": "markdown",
   "id": "3893ade0-65f2-41e7-be8e-dce9a508c09f",
   "metadata": {},
   "source": [
    "#### Partial Periodicity\n",
    "\n",
    "In the partial periodic example, we expect these neighborhoods to look like this:\n",
    "\n",
    "![partial periodic edge](../img/vn_edge_non_per.png) ![partial periodic corner](../img/vn_cor_par_per.png)\n",
    "\n",
    "Note that the neighborhood has not \"rolled over\" into the right side of the simulation box. Let's see the code for this."
   ]
  },
  {
   "cell_type": "code",
   "execution_count": 79,
   "id": "c7178e75-1f89-4376-ae32-7daffa816d11",
   "metadata": {},
   "outputs": [
    {
     "name": "stdout",
     "output_type": "stream",
     "text": [
      "The edge site (0.5, 1.5) has 3 neighbors in the partially periodic system\n",
      "Their coordinates are: [(0.5, 2.5), (0.5, 0.5), (1.5, 1.5)]\n",
      "\n",
      "The corner (0.5, 2.5) site has 3 neighbors in the partially periodic system\n",
      "Their coordinates are: [(1.5, 2.5), (0.5, 0.5), (0.5, 1.5)]\n"
     ]
    }
   ],
   "source": [
    "edge_id = partial_periodic_struct.id_at(edge_coords)\n",
    "edge_nbs = partial_periodic_nbhood.neighbors_of(edge_id)\n",
    "\n",
    "print(f\"The edge site {edge_coords} has\", len(edge_nbs), \"neighbors in the partially periodic system\")\n",
    "print(\"Their coordinates are:\", [partial_periodic_struct.site_location(nb_id) for nb_id in edge_nbs])\n",
    "\n",
    "corner_id = partial_periodic_struct.id_at(corner_coords)\n",
    "corner_nbs = partial_periodic_nbhood.neighbors_of(corner_id)\n",
    "print()\n",
    "print(f\"The corner {corner_coords} site has\", len(corner_nbs), \"neighbors in the partially periodic system\")\n",
    "print(\"Their coordinates are:\", [partial_periodic_struct.site_location(nb_id) for nb_id in corner_nbs])"
   ]
  },
  {
   "cell_type": "markdown",
   "id": "d01bd18a-b531-4947-8072-1de92a6a6cf9",
   "metadata": {},
   "source": [
    "#### Non-periodic System\n",
    "\n",
    "In the system without any periodicity, we expect neighborhoods for these sites to look like so:\n",
    "\n",
    "![non periodic edge](../img/vn_edge_non_per.png) ![non periodic corner](../img/vn_cor_non_per.png)\n",
    "\n",
    "Note that now the neighborhood does not roll over in either direction."
   ]
  },
  {
   "cell_type": "code",
   "execution_count": 81,
   "id": "0483d5a8-686f-4992-8657-83b10757e968",
   "metadata": {},
   "outputs": [
    {
     "name": "stdout",
     "output_type": "stream",
     "text": [
      "The edge site (0.5, 1.5) has 3 neighbors in the non-periodic system\n",
      "Their coordinates are: [(0.5, 2.5), (1.5, 1.5), (0.5, 0.5)]\n",
      "\n",
      "The corner (0.5, 2.5) site has 2 neighbors in the non-periodic system\n",
      "Their coordinates are: [(0.5, 1.5), (1.5, 2.5)]\n"
     ]
    }
   ],
   "source": [
    "edge_id = non_periodic_struct.id_at(edge_coords)\n",
    "edge_nbs = non_periodic_nbhood.neighbors_of(edge_id)\n",
    "\n",
    "print(f\"The edge site {edge_coords} has\", len(edge_nbs), \"neighbors in the non-periodic system\")\n",
    "print(\"Their coordinates are:\", [non_periodic_struct.site_location(nb_id) for nb_id in edge_nbs])\n",
    "\n",
    "corner_id = non_periodic_struct.id_at(corner_coords)\n",
    "corner_nbs = non_periodic_nbhood.neighbors_of(corner_id)\n",
    "print()\n",
    "print(f\"The corner {corner_coords} site has\", len(corner_nbs), \"neighbors in the non-periodic system\")\n",
    "print(\"Their coordinates are:\", [non_periodic_struct.site_location(nb_id) for nb_id in corner_nbs])"
   ]
  }
 ],
 "metadata": {
  "kernelspec": {
   "display_name": "Python 3 (ipykernel)",
   "language": "python",
   "name": "python3"
  },
  "language_info": {
   "codemirror_mode": {
    "name": "ipython",
    "version": 3
   },
   "file_extension": ".py",
   "mimetype": "text/x-python",
   "name": "python",
   "nbconvert_exporter": "python",
   "pygments_lexer": "ipython3",
   "version": "3.10.6"
  }
 },
 "nbformat": 4,
 "nbformat_minor": 5
}
