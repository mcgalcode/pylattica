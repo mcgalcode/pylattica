{
 "cells": [
  {
   "cell_type": "code",
   "execution_count": 17,
   "id": "1552cb7a-cedd-49f5-9108-fb0ff55c698c",
   "metadata": {},
   "outputs": [
    {
     "name": "stdout",
     "output_type": "stream",
     "text": [
      "The autoreload extension is already loaded. To reload it, use:\n",
      "  %reload_ext autoreload\n"
     ]
    }
   ],
   "source": [
    "%load_ext autoreload\n",
    "%autoreload 2"
   ]
  },
  {
   "cell_type": "markdown",
   "id": "bbf19c61-6567-423b-b0d8-709a2fb6f83a",
   "metadata": {},
   "source": [
    "# Conway's Game of Life\n",
    "\n",
    "While the concept of a cellular automaton (a model in which cells are updated based on the state of their neighbors) has been around for a while, Conway's Game of Life is the most famous example of such a system. It demonstrates quite clearly the way that very complex phenomena can emerge from simple local interactions, and has been studied extensively.\n",
    "\n",
    "In Conway's Game of Life, a 2D square grid of cells are labelled as \"alive\" or \"dead\". Then, as the simulation progresses, the cell states flip between \"dead\" and \"alive\" depending on how many living cells surround them.\n",
    "\n",
    "This automaton is a good place to start for a demonstration of pylattica because it shows a few of the fundamental features of the code.\n",
    "\n",
    "Before we begin though, take a quick look at the [Wikipedia Article](https://en.wikipedia.org/wiki/Conway%27s_Game_of_Life) for the Game of Life to understand what the model is.\n",
    "\n",
    "In particular, note that the rules describing the game are simple:\n",
    "\n",
    "1. Any live cell with fewer than two live neighbours dies, as if by underpopulation.\n",
    "2. Any live cell with two or three live neighbours lives on to the next generation.\n",
    "3. Any live cell with more than three live neighbours dies, as if by overpopulation.\n",
    "4. Any dead cell with exactly three live neighbours becomes a live cell, as if by reproduction.\n",
    "\n",
    "In this notebook, we will implement this model using pylattica and show some of the libarary's visualization capabilities.\n",
    "\n",
    "To begin, we make a few key imports."
   ]
  },
  {
   "cell_type": "code",
   "execution_count": 27,
   "id": "870eed54-fcd0-4ecb-a2ba-27ce9fc549dd",
   "metadata": {},
   "outputs": [],
   "source": [
    "from pylattica.core import Runner\n",
    "from pylattica.discrete import PhaseSet\n",
    "from pylattica.square_grid import DiscreteGridSetup, SimpleSquare2DStructureBuilder"
   ]
  },
  {
   "cell_type": "markdown",
   "id": "ef365913-03b0-47e4-b955-f2de7994da75",
   "metadata": {},
   "source": [
    "The first step toward running the Game of Life with pylattica is to implement the rules we found in the Wikipedia article in python.\n",
    "\n",
    "This is accomplished using an object oriented programming approach. Specifically, we create a new class called a Controller that implements the update rule.\n",
    "\n",
    "Before that though, let's just write out this logic very simply:"
   ]
  },
  {
   "cell_type": "code",
   "execution_count": 133,
   "id": "dbc8cdae-ca5c-488c-acdd-d7783c00617d",
   "metadata": {},
   "outputs": [],
   "source": [
    "def update_state(old_state, neighboring_states):\n",
    "    alive_neighbor_count = 0\n",
    "    dead_neighbor_count = 0\n",
    "    \n",
    "    for state in neighboring_states:\n",
    "        if state == \"alive\":\n",
    "            alive_neighbor_count += 1\n",
    "        else:\n",
    "            # since all cells are either alive or dead, nothing else\n",
    "            dead_neighbor_count += 1\n",
    "    \n",
    "    # Now, we can implement the rules in python logic:\n",
    "    if old_state == \"alive\":\n",
    "        if alive_neighbor_count < 2:\n",
    "            return \"dead\"\n",
    "        elif alive_neighbor_count == 2 or alive_neighbor_count == 3:\n",
    "            return \"alive\"\n",
    "        elif alive_neighbor_count > 3:\n",
    "            return \"dead\"\n",
    "    elif old_state == \"dead\":\n",
    "        if alive_neighbor_count == 3:\n",
    "            return \"alive\"\n",
    "    \n",
    "    return old_state\n",
    "    "
   ]
  },
  {
   "cell_type": "markdown",
   "id": "be29b936-7229-4b87-8d14-6ed79dfe1db4",
   "metadata": {},
   "source": [
    "This is a bit verbose, but we've written it that way just to emphasize the direct mapping of logical statements here to the rules from the Wikipedia article. Let's try out some hypothetical situations:"
   ]
  },
  {
   "cell_type": "code",
   "execution_count": 134,
   "id": "b7a88a2e-7f8c-4d6f-b5b0-b18c47f1213f",
   "metadata": {},
   "outputs": [
    {
     "name": "stdout",
     "output_type": "stream",
     "text": [
      "alive cell, 2 dead, 2 alive neighbors:\n",
      "result: alive\n",
      "\n",
      "alive cell, 1 dead, 4 alive neighbors:\n",
      "result: dead\n",
      "\n",
      "dead cell, 1 dead, 3 alive neighbors:\n",
      "result: alive\n"
     ]
    }
   ],
   "source": [
    "print(\"alive cell, 2 dead, 2 alive neighbors:\")\n",
    "print(\"result:\", update_state(\"alive\", [\"alive\", \"dead\", \"alive\", \"dead\"]))\n",
    "print(\"\")\n",
    "print(\"alive cell, 1 dead, 4 alive neighbors:\")\n",
    "print(\"result:\", update_state(\"alive\", [\"alive\", \"alive\", \"alive\", \"alive\"]))\n",
    "print(\"\")\n",
    "print(\"dead cell, 1 dead, 3 alive neighbors:\")\n",
    "print(\"result:\", update_state(\"dead\", [\"alive\", \"alive\", \"alive\", \"dead\"]))"
   ]
  },
  {
   "cell_type": "markdown",
   "id": "f2861bdd-bf7c-4b3e-b059-9857ab5a887a",
   "metadata": {},
   "source": [
    "The rule looks like it's working. Let's see how we can use pylattica to make this rule into a whole simulation."
   ]
  },
  {
   "cell_type": "markdown",
   "id": "11975360-4fbb-4bb0-ae31-23b3225b541f",
   "metadata": {},
   "source": [
    "## Setting Up A Simulation State"
   ]
  },
  {
   "cell_type": "markdown",
   "id": "5bc8387f-3cd0-4d43-9e58-93decb9e211c",
   "metadata": {},
   "source": [
    "We know that Conway's Game of Life has cells that are either dead or alive. In the parlance of pylattica, these discrete states are referred to as \"phases\", and the record of possible phases in a given simulation is called the `PhaseSet`.\n",
    "\n",
    "We can establish the list of possible phases by providing some human identifiable strings to the `PhaseSet` class."
   ]
  },
  {
   "cell_type": "code",
   "execution_count": 135,
   "id": "ecdb28f2-d08d-4765-9cd4-f4bf73b1ead0",
   "metadata": {},
   "outputs": [],
   "source": [
    "phases = PhaseSet([\"alive\", \"dead\"])"
   ]
  },
  {
   "cell_type": "markdown",
   "id": "952d0853-c7bf-4410-8053-c7118b69ba7b",
   "metadata": {},
   "source": [
    "Now that we have our phases, let's set up a square simulation with a random distribution of dead and alive sites."
   ]
  },
  {
   "cell_type": "code",
   "execution_count": 275,
   "id": "db0929ec-a37e-48b7-9859-cb8203aa795f",
   "metadata": {},
   "outputs": [],
   "source": [
    "setup = DiscreteGridSetup(phases)\n",
    "starting_step = setup.setup_noise(59, phases.phases)"
   ]
  },
  {
   "cell_type": "markdown",
   "id": "72708f67-5543-46af-943b-84a4e2228b34",
   "metadata": {},
   "source": [
    "That's it! Now we can do a quick visualization to see what the simulation state looks like."
   ]
  },
  {
   "cell_type": "code",
   "execution_count": 276,
   "id": "60fc6221-a155-4cd7-940b-eaf17e3e8250",
   "metadata": {},
   "outputs": [
    {
     "data": {
      "image/png": "[encoded data removed]",
      "text/plain": [
       "<PIL.Image.Image image mode=RGB size=1305x1180>"
      ]
     },
     "metadata": {},
     "output_type": "display_data"
    }
   ],
   "source": [
    "from pylattica.visualization import DiscreteSquareGridArtist2D\n",
    "\n",
    "step_artist = DiscreteSquareGridArtist2D()\n",
    "step_artist.jupyter_show(starting_step.state)"
   ]
  },
  {
   "cell_type": "markdown",
   "id": "0a8ce235-88fb-4e48-af64-83923e2b9a94",
   "metadata": {
    "tags": []
   },
   "source": [
    "## Inspecting the Simulation State\n",
    "\n",
    "Before we continue, we have to understand structure of pylattica's simulation state. There are three core aspects to it:\n",
    "\n",
    "1. A periodic structure\n",
    "2. A simulation state dictionary\n",
    "3. A neighborhood graph"
   ]
  },
  {
   "cell_type": "markdown",
   "id": "d62dadca-1d47-4ea4-9d70-51524ff3a6a2",
   "metadata": {},
   "source": [
    "#### Periodic Structure\n",
    "\n",
    "Underlying the simulation state is an arrangement of sites. In our case, it is a two dimensional square grid (but in other simulations, it could be any type of lattice). This is called the \"structure\" of the simulation state. It is subject to periodic boundary conditions, meaning that a cell on the edge of the structure is a neighbor to the cell on the opposite edge of the grid.\n",
    "\n",
    "Here's how we can view one of the sites in our structure."
   ]
  },
  {
   "cell_type": "code",
   "execution_count": 277,
   "id": "4d7dc8b2-0f81-422b-81db-64ccbd065d17",
   "metadata": {},
   "outputs": [
    {
     "data": {
      "text/plain": [
       "{'_site_class': '_A', '_location': (0.0, 0.0), '_site_id': 0}"
      ]
     },
     "execution_count": 277,
     "metadata": {},
     "output_type": "execute_result"
    }
   ],
   "source": [
    "starting_step.structure.sites()[0]"
   ]
  },
  {
   "cell_type": "markdown",
   "id": "81e66d05-9c3a-4d5e-821e-470d75059cd6",
   "metadata": {},
   "source": [
    "Here are a few more. See how the locations are represented by two coordinates? They lie on a square grid."
   ]
  },
  {
   "cell_type": "code",
   "execution_count": 278,
   "id": "7b7e29b8-12e0-4b91-8104-a645429aebfb",
   "metadata": {},
   "outputs": [
    {
     "name": "stdout",
     "output_type": "stream",
     "text": [
      "(1.0, 0.0)\n",
      "(2.0, 0.0)\n",
      "(23.0, 0.0)\n"
     ]
    }
   ],
   "source": [
    "print(starting_step.structure.sites()[1]['_location'])\n",
    "print(starting_step.structure.sites()[2]['_location'])\n",
    "print(starting_step.structure.sites()[23]['_location'])"
   ]
  },
  {
   "cell_type": "markdown",
   "id": "a1f61c74-d3f2-4c2d-9b57-b0f410e753ba",
   "metadata": {},
   "source": [
    "Every site in this structure has a `_site_class` of \"_A\". This is not significant. In other, more complex simulations, this attribute can be used to distinguish types of sites that exist in the structure. For instance, in materials science, we refer to lattice sites by their coordination structure (e.g. tetrahedral, octahedral)."
   ]
  },
  {
   "cell_type": "markdown",
   "id": "1ca3d792-f50b-4b4c-8d52-0e7dc042ba7c",
   "metadata": {},
   "source": [
    "#### Simulation State Dictionary\n",
    "\n",
    "You may have noticed that the sites in our structure also have IDs. These IDs are referred to by the `SimulationState`. This object is essentially a dictionary that maps site IDs to the state of that site. A site state can be any arbitrary python dictionary, but in our case each site is just assigned an occupancy value. Let's make some sense of this.\n",
    "\n",
    "The first site we have is (0,0). It's ID is 0 as well."
   ]
  },
  {
   "cell_type": "code",
   "execution_count": 279,
   "id": "084324f7-b60d-440e-a48a-94cd21919de5",
   "metadata": {},
   "outputs": [
    {
     "name": "stdout",
     "output_type": "stream",
     "text": [
      "Site 0 is at (0.0, 0.0)\n"
     ]
    }
   ],
   "source": [
    "first_site = starting_step.structure.sites()[0]\n",
    "print(f'Site {first_site[\"_site_id\"]} is at {first_site[\"_location\"]}')"
   ]
  },
  {
   "cell_type": "markdown",
   "id": "fa8873cd-a64d-4b5e-916c-2dc2a39116ea",
   "metadata": {},
   "source": [
    "Now let's see what it's state is:"
   ]
  },
  {
   "cell_type": "code",
   "execution_count": 280,
   "id": "f7ef46af-cc4c-4f7e-b91e-b7bbdb2055b7",
   "metadata": {},
   "outputs": [
    {
     "data": {
      "text/plain": [
       "{'_site_id': 0, 'DISCRETE_OCCUPANCY': 'dead'}"
      ]
     },
     "execution_count": 280,
     "metadata": {},
     "output_type": "execute_result"
    }
   ],
   "source": [
    "starting_step.state.get_site_state(0)"
   ]
  },
  {
   "cell_type": "markdown",
   "id": "8d3c7741-c88d-46fe-b658-8d2506ae3333",
   "metadata": {},
   "source": [
    "The `DISCRETE_OCCUPANCY` key indicates the \"phase\" that occupies that cell. Let's see if that lines up with our visualization. Remember, this site is at (0,0), or the bottom left of the simulation state."
   ]
  },
  {
   "cell_type": "code",
   "execution_count": 281,
   "id": "9de4da29-9a63-4702-90a8-6419697fd8f8",
   "metadata": {},
   "outputs": [
    {
     "data": {
      "image/png": "[encoded data removed]",
      "text/plain": [
       "<PIL.Image.Image image mode=RGB size=330x295>"
      ]
     },
     "metadata": {},
     "output_type": "display_data"
    }
   ],
   "source": [
    "step_artist.jupyter_show(starting_step.state, cell_size=5)"
   ]
  },
  {
   "cell_type": "markdown",
   "id": "b2f79f1d-cb14-40f4-8ae5-3276c1f43a77",
   "metadata": {},
   "source": [
    "Sure enough, that bottom left cell looks right!"
   ]
  },
  {
   "cell_type": "markdown",
   "id": "8a7f8feb-ff70-42bd-a1cd-7dadc4468f1a",
   "metadata": {
    "tags": []
   },
   "source": [
    "#### Site Neighborhoods\n",
    "\n",
    "The final ingredient to the pylattica model is the concept of a neighborhood. A neighborhood is simply the set of other sites that are considered neighbors. There are many different neighborhood specifications that are possible including classic neighborhoods for 2D square grids like [Moore Neighborhoods](https://en.wikipedia.org/wiki/Moore_neighborhood) and [Von Neumann Neighborhoods](https://en.wikipedia.org/wiki/Von_Neumann_neighborhood).\n",
    "\n",
    "You can specify neighborhoods in many different ways such as:\n",
    "\n",
    "- All cells within a certain distance (actually Moore and Von Neumann neighborhoods both fall into this category, but with different distance cutoffs, or different distance metrics)\n",
    "- All cells given by moving in a certain direction\n",
    "- A random subset of surrounding cells\n",
    "\n",
    "pylattica provides implementations for many common neighborhoods. As specified in the Game of Life Wikipedia article, we need a Von Neumann neighborhood (includes the cells in each of the cardinal directions and a distance of one away)."
   ]
  },
  {
   "cell_type": "code",
   "execution_count": 282,
   "id": "054dee1a-1361-4387-886d-2e1d8826d0f0",
   "metadata": {},
   "outputs": [],
   "source": [
    "from pylattica.square_grid import VonNeumannNbHood2DBuilder"
   ]
  },
  {
   "cell_type": "markdown",
   "id": "4b72eca3-9259-4119-9e1a-b10776d48bc1",
   "metadata": {},
   "source": [
    "To construct our neighborhood, we provide our state structure to a neighborhood builder. In this step, you can imagine the neighborhood builder visiting each site in the structure, and constructing a graph that specifies which sites are neighbors of every other site.\n",
    "\n",
    "Here's how it works."
   ]
  },
  {
   "cell_type": "code",
   "execution_count": 283,
   "id": "05e0b029-9323-40ed-be08-1d4d1aaf73cb",
   "metadata": {},
   "outputs": [
    {
     "name": "stderr",
     "output_type": "stream",
     "text": [
      "100%|█████████████████████████████████████████| 3481/3481 [00:00<00:00, 75700.59it/s]\n"
     ]
    }
   ],
   "source": [
    "builder = VonNeumannNbHood2DBuilder()\n",
    "nb_hood = builder.get(starting_step.structure)"
   ]
  },
  {
   "cell_type": "markdown",
   "id": "9dcc8b59-3750-4be4-aa91-7c9470a46d7d",
   "metadata": {},
   "source": [
    "We can use the neighborhood to get the neighbors of any site, let's try the one at (5, 5)."
   ]
  },
  {
   "cell_type": "code",
   "execution_count": 284,
   "id": "886e35ad-f7e3-4f4d-9191-7c0cdc4988ed",
   "metadata": {},
   "outputs": [],
   "source": [
    "site = starting_step.structure.site_at((5,5))\n",
    "nbs = nb_hood.neighbors_of(site['_site_id'])"
   ]
  },
  {
   "cell_type": "markdown",
   "id": "df290dbe-0491-47ac-81cf-b90a30ebfef6",
   "metadata": {},
   "source": [
    "What do we expect the locations of these neighboring sites to be?"
   ]
  },
  {
   "cell_type": "code",
   "execution_count": 285,
   "id": "8f36819b-d6d8-469a-b968-8f6746d0d906",
   "metadata": {},
   "outputs": [
    {
     "name": "stdout",
     "output_type": "stream",
     "text": [
      "Neighbor with ID 301 is at (6.0, 5.0)\n",
      "Neighbor with ID 359 is at (5.0, 6.0)\n",
      "Neighbor with ID 299 is at (4.0, 5.0)\n",
      "Neighbor with ID 241 is at (5.0, 4.0)\n"
     ]
    }
   ],
   "source": [
    "for nb_id in nbs:\n",
    "    site = starting_step.structure.get_site(nb_id)\n",
    "    print(f'Neighbor with ID {nb_id} is at {site[\"_location\"]}')"
   ]
  },
  {
   "cell_type": "markdown",
   "id": "a6896bd5-c9c8-4387-8458-caf6267a69e7",
   "metadata": {},
   "source": [
    "As expected, these four coordinate pairs correspond to the sites immediately above, below, right and left of the site at (5, 5)."
   ]
  },
  {
   "cell_type": "markdown",
   "id": "3029a279-ac88-44b3-a6ea-7fd62300b88a",
   "metadata": {},
   "source": [
    "## Implementing the Simulation Controller\n",
    "\n",
    "We've defined the possible states in our system, and initialized a starting point. The next step is move our update rule from before into a format the pylattica can understand. For this, we have to implement a new `Controller` class."
   ]
  },
  {
   "cell_type": "code",
   "execution_count": 254,
   "id": "affb772a-12c0-4365-afaa-2be1fe8e4160",
   "metadata": {},
   "outputs": [],
   "source": [
    "from pylattica.core import BasicController, SimulationState\n",
    "from pylattica.discrete.state_constants import DISCRETE_OCCUPANCY\n",
    "from pylattica.core.simulation_state import SITES"
   ]
  },
  {
   "cell_type": "markdown",
   "id": "1b4e9ece-e0f3-4674-8ea2-a51a2309aae2",
   "metadata": {},
   "source": [
    "To accomplish this, we need to implement two methods in our controller class. The first, `pre_run` provides an opportunity to do any setup you'd like to before the simulation runs. It accepts as parameters the initial state of the simulation, and the structure underlying the state.\n",
    "\n",
    "All we'll do is setup a neighborhood based on the structure that we can use later.\n",
    "\n",
    "Second, we need to implement the `get_state_update` method. This is the fundamental piece of the controller. This method takes a site for which a new state should be calculated and the entire current simulation state. We can do any calculation we want to figure out the new state, but, armed with our neighborhood, and the update rule we implemented earlier, we have enough to create Conway's Game of Life."
   ]
  },
  {
   "cell_type": "code",
   "execution_count": 270,
   "id": "40bbad4c-8589-40d9-a1ff-26a3e153e787",
   "metadata": {},
   "outputs": [],
   "source": [
    "def update_state(old_state, neighboring_states):\n",
    "    alive_neighbor_count = 0\n",
    "    dead_neighbor_count = 0\n",
    "    \n",
    "    for state in neighboring_states:\n",
    "        if state == \"alive\":\n",
    "            alive_neighbor_count += 1\n",
    "        else:\n",
    "            # since all cells are either alive or dead, nothing else\n",
    "            dead_neighbor_count += 1\n",
    "    \n",
    "    # Now, we can implement the rules in python logic:\n",
    "    if old_state == \"alive\":\n",
    "        if alive_neighbor_count < 2:\n",
    "            return \"dead\"\n",
    "        elif alive_neighbor_count == 2 or alive_neighbor_count == 3:\n",
    "            return \"alive\"\n",
    "        elif alive_neighbor_count > 3:\n",
    "            return \"dead\"\n",
    "    elif old_state == \"dead\":\n",
    "        if alive_neighbor_count == 3:\n",
    "            return \"alive\"\n",
    "    \n",
    "    return old_state\n",
    "\n",
    "class GameOfLifeController(BasicController):\n",
    "    \n",
    "    def pre_run(self, initial_state, structure):\n",
    "        # Before the simulation runs, we build a neighborhood based on the \n",
    "        # structure of the current simulation.\n",
    "        self.neighborhood = VonNeumannNbHood2DBuilder().get(structure)\n",
    "    \n",
    "    def get_state_update(self, site_id, curr_state: SimulationState):\n",
    "        neighbor_site_ids = self.neighborhood.neighbors_of(site_id)\n",
    "        \n",
    "        neighbor_states = []\n",
    "        for site_id in neighbor_site_ids:\n",
    "            neighbor_state = curr_state.get_site_state(site_id)\n",
    "            neighbor_states.append(neighbor_state[DISCRETE_OCCUPANCY])\n",
    "\n",
    "        current_state = curr_state.get_site_state(site_id)[DISCRETE_OCCUPANCY]\n",
    "        \n",
    "        new_state = update_state(current_state, neighbor_states)\n",
    "        # print(site_id, current_state, neighbor_states, new_state)\n",
    "        updates = {\n",
    "            DISCRETE_OCCUPANCY: new_state\n",
    "        }\n",
    "        return updates\n",
    "            "
   ]
  },
  {
   "cell_type": "markdown",
   "id": "47a5db5f-8ef4-4d21-8305-8a59a1109714",
   "metadata": {},
   "source": [
    "Finally, we instantiate our controller and a `Runner`, and let the simulation run for a few steps."
   ]
  },
  {
   "cell_type": "code",
   "execution_count": 272,
   "id": "af7f090e-1af5-4239-9c60-06a6efb7f3ef",
   "metadata": {},
   "outputs": [
    {
     "name": "stderr",
     "output_type": "stream",
     "text": [
      "100%|██████████████████████████████████████| 10000/10000 [00:00<00:00, 105019.86it/s]"
     ]
    },
    {
     "name": "stdout",
     "output_type": "stream",
     "text": [
      "Distributing 10000 update tasks to 10 workers in chunks of 1000\n"
     ]
    },
    {
     "name": "stderr",
     "output_type": "stream",
     "text": [
      "\n",
      "100%|████████████████████████████████████████████████| 10/10 [00:00<00:00, 28.01it/s]\n"
     ]
    }
   ],
   "source": [
    "controller = GameOfLifeController()\n",
    "runner = Runner(parallel = True)\n",
    "result = runner.run(starting_step.state, controller, 10, structure=starting_step.structure)"
   ]
  },
  {
   "cell_type": "code",
   "execution_count": 273,
   "id": "c4346240-d455-4a76-add4-edf0c7129b85",
   "metadata": {},
   "outputs": [
    {
     "data": {
      "image/png": "[encoded data removed]",
      "text/plain": [
       "<PIL.Image.Image image mode=RGB size=323x300>"
      ]
     },
     "metadata": {},
     "output_type": "display_data"
    },
    {
     "data": {
      "image/png": "[encoded data removed]",
      "text/plain": [
       "<PIL.Image.Image image mode=RGB size=323x300>"
      ]
     },
     "metadata": {},
     "output_type": "display_data"
    },
    {
     "data": {
      "image/png": "[encoded data removed]",
      "text/plain": [
       "<PIL.Image.Image image mode=RGB size=323x300>"
      ]
     },
     "metadata": {},
     "output_type": "display_data"
    }
   ],
   "source": [
    "step_artist.jupyter_show(result.get_step(2), cell_size=3)\n",
    "step_artist.jupyter_show(result.get_step(4), cell_size=3)\n",
    "step_artist.jupyter_show(result.get_step(8), cell_size=3)"
   ]
  }
 ],
 "metadata": {
  "kernelspec": {
   "display_name": "Python 3 (ipykernel)",
   "language": "python",
   "name": "python3"
  },
  "language_info": {
   "codemirror_mode": {
    "name": "ipython",
    "version": 3
   },
   "file_extension": ".py",
   "mimetype": "text/x-python",
   "name": "python",
   "nbconvert_exporter": "python",
   "pygments_lexer": "ipython3",
   "version": "3.10.6"
  }
 },
 "nbformat": 4,
 "nbformat_minor": 5
}
